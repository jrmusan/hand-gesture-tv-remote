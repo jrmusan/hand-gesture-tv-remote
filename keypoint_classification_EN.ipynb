{
 "cells": [
  {
   "cell_type": "code",
   "execution_count": 1,
   "metadata": {
    "id": "igMyGnjE9hEp"
   },
   "outputs": [],
   "source": [
    "import csv\n",
    "\n",
    "import numpy as np\n",
    "import tensorflow as tf\n",
    "from sklearn.model_selection import train_test_split\n",
    "\n",
    "RANDOM_SEED = 42"
   ]
  },
  {
   "cell_type": "markdown",
   "metadata": {
    "id": "t2HDvhIu9hEr"
   },
   "source": [
    "# Specify each path"
   ]
  },
  {
   "cell_type": "code",
   "execution_count": 2,
   "metadata": {
    "id": "9NvZP2Zn9hEy"
   },
   "outputs": [],
   "source": [
    "dataset = 'model/keypoint_classifier/keypoint.csv'\n",
    "model_save_path = 'model/keypoint_classifier/keypoint_classifier.hdf5'\n",
    "tflite_save_path = 'model/keypoint_classifier/keypoint_classifier.tflite'"
   ]
  },
  {
   "cell_type": "markdown",
   "metadata": {
    "id": "s5oMH7x19hEz"
   },
   "source": [
    "# Set number of classes"
   ]
  },
  {
   "cell_type": "code",
   "execution_count": 3,
   "metadata": {
    "id": "du4kodXL9hEz"
   },
   "outputs": [],
   "source": [
    "NUM_CLASSES = 6"
   ]
  },
  {
   "cell_type": "markdown",
   "metadata": {
    "id": "XjnL0uso9hEz"
   },
   "source": [
    "# Dataset reading"
   ]
  },
  {
   "cell_type": "code",
   "execution_count": 4,
   "metadata": {
    "id": "QT5ZqtEz9hE0"
   },
   "outputs": [],
   "source": [
    "X_dataset = np.loadtxt(dataset, delimiter=',', dtype='float32', usecols=list(range(1, (21 * 2) + 1)))"
   ]
  },
  {
   "cell_type": "code",
   "execution_count": 5,
   "metadata": {
    "id": "QmoKFsp49hE0"
   },
   "outputs": [],
   "source": [
    "y_dataset = np.loadtxt(dataset, delimiter=',', dtype='int32', usecols=(0))"
   ]
  },
  {
   "cell_type": "code",
   "execution_count": 6,
   "metadata": {
    "id": "xQU7JTZ_9hE0"
   },
   "outputs": [],
   "source": [
    "X_train, X_test, y_train, y_test = train_test_split(X_dataset, y_dataset, train_size=0.75, random_state=RANDOM_SEED)"
   ]
  },
  {
   "cell_type": "markdown",
   "metadata": {
    "id": "mxK_lETT9hE0"
   },
   "source": [
    "# Model building"
   ]
  },
  {
   "cell_type": "code",
   "execution_count": 7,
   "metadata": {
    "id": "vHBmUf1t9hE1"
   },
   "outputs": [],
   "source": [
    "model = tf.keras.models.Sequential([\n",
    "    tf.keras.layers.Input((21 * 2, )),\n",
    "    tf.keras.layers.Dropout(0.2),\n",
    "    tf.keras.layers.Dense(20, activation='relu'),\n",
    "    tf.keras.layers.Dropout(0.4),\n",
    "    tf.keras.layers.Dense(10, activation='relu'),\n",
    "    tf.keras.layers.Dense(NUM_CLASSES, activation='softmax')\n",
    "])"
   ]
  },
  {
   "cell_type": "code",
   "execution_count": 8,
   "metadata": {
    "colab": {
     "base_uri": "https://localhost:8080/"
    },
    "id": "ypqky9tc9hE1",
    "outputId": "5db082bb-30e3-4110-bf63-a1ee777ecd46"
   },
   "outputs": [
    {
     "name": "stdout",
     "output_type": "stream",
     "text": [
      "Model: \"sequential\"\n",
      "_________________________________________________________________\n",
      " Layer (type)                Output Shape              Param #   \n",
      "=================================================================\n",
      " dropout (Dropout)           (None, 42)                0         \n",
      "                                                                 \n",
      " dense (Dense)               (None, 20)                860       \n",
      "                                                                 \n",
      " dropout_1 (Dropout)         (None, 20)                0         \n",
      "                                                                 \n",
      " dense_1 (Dense)             (None, 10)                210       \n",
      "                                                                 \n",
      " dense_2 (Dense)             (None, 6)                 66        \n",
      "                                                                 \n",
      "=================================================================\n",
      "Total params: 1136 (4.44 KB)\n",
      "Trainable params: 1136 (4.44 KB)\n",
      "Non-trainable params: 0 (0.00 Byte)\n",
      "_________________________________________________________________\n"
     ]
    }
   ],
   "source": [
    "model.summary()  # tf.keras.utils.plot_model(model, show_shapes=True)"
   ]
  },
  {
   "cell_type": "code",
   "execution_count": 9,
   "metadata": {
    "id": "MbMjOflQ9hE1"
   },
   "outputs": [],
   "source": [
    "# Model checkpoint callback\n",
    "cp_callback = tf.keras.callbacks.ModelCheckpoint(\n",
    "    model_save_path, verbose=1, save_weights_only=False)\n",
    "# Callback for early stopping\n",
    "es_callback = tf.keras.callbacks.EarlyStopping(patience=20, verbose=1)"
   ]
  },
  {
   "cell_type": "code",
   "execution_count": 10,
   "metadata": {
    "id": "c3Dac0M_9hE2"
   },
   "outputs": [],
   "source": [
    "# Model compilation\n",
    "model.compile(\n",
    "    optimizer='adam',\n",
    "    loss='sparse_categorical_crossentropy',\n",
    "    metrics=['accuracy']\n",
    ")"
   ]
  },
  {
   "cell_type": "markdown",
   "metadata": {
    "id": "7XI0j1Iu9hE2"
   },
   "source": [
    "# Model training"
   ]
  },
  {
   "cell_type": "code",
   "execution_count": 11,
   "metadata": {
    "colab": {
     "base_uri": "https://localhost:8080/"
    },
    "id": "WirBl-JE9hE3",
    "outputId": "71b30ca2-8294-4d9d-8aa2-800d90d399de",
    "scrolled": true
   },
   "outputs": [
    {
     "name": "stdout",
     "output_type": "stream",
     "text": [
      "Epoch 1/1000\n",
      "53/53 [==============================] - ETA: 0s - loss: 1.8347 - accuracy: 0.2139\n",
      "Epoch 1: saving model to model/keypoint_classifier/keypoint_classifier.hdf5\n",
      "53/53 [==============================] - 1s 10ms/step - loss: 1.8347 - accuracy: 0.2139 - val_loss: 1.3532 - val_accuracy: 0.5044\n",
      "Epoch 2/1000\n",
      "40/53 [=====================>........] - ETA: 0s - loss: 1.2926 - accuracy: 0.4570"
     ]
    },
    {
     "name": "stderr",
     "output_type": "stream",
     "text": [
      "/Users/joeymusante/dev/hand-remote/venv/lib/python3.10/site-packages/keras/src/engine/training.py:3079: UserWarning: You are saving your model as an HDF5 file via `model.save()`. This file format is considered legacy. We recommend using instead the native Keras format, e.g. `model.save('my_model.keras')`.\n",
      "  saving_api.save_model(\n"
     ]
    },
    {
     "name": "stdout",
     "output_type": "stream",
     "text": [
      "53/53 [==============================] - ETA: 0s - loss: 1.2332 - accuracy: 0.4837\n",
      "Epoch 2: saving model to model/keypoint_classifier/keypoint_classifier.hdf5\n",
      "53/53 [==============================] - 0s 5ms/step - loss: 1.2332 - accuracy: 0.4837 - val_loss: 0.8381 - val_accuracy: 0.8373\n",
      "Epoch 3/1000\n",
      "53/53 [==============================] - ETA: 0s - loss: 0.8328 - accuracy: 0.6868\n",
      "Epoch 3: saving model to model/keypoint_classifier/keypoint_classifier.hdf5\n",
      "53/53 [==============================] - 0s 5ms/step - loss: 0.8328 - accuracy: 0.6868 - val_loss: 0.5487 - val_accuracy: 0.9302\n",
      "Epoch 4/1000\n",
      "41/53 [======================>.......] - ETA: 0s - loss: 0.6249 - accuracy: 0.7933\n",
      "Epoch 4: saving model to model/keypoint_classifier/keypoint_classifier.hdf5\n",
      "53/53 [==============================] - 0s 5ms/step - loss: 0.6116 - accuracy: 0.7978 - val_loss: 0.3854 - val_accuracy: 0.9676\n",
      "Epoch 5/1000\n",
      "41/53 [======================>.......] - ETA: 0s - loss: 0.4773 - accuracy: 0.8434\n",
      "Epoch 5: saving model to model/keypoint_classifier/keypoint_classifier.hdf5\n",
      "53/53 [==============================] - 0s 5ms/step - loss: 0.4704 - accuracy: 0.8486 - val_loss: 0.2830 - val_accuracy: 0.9742\n",
      "Epoch 6/1000\n",
      "41/53 [======================>.......] - ETA: 0s - loss: 0.3932 - accuracy: 0.8803\n",
      "Epoch 6: saving model to model/keypoint_classifier/keypoint_classifier.hdf5\n",
      "53/53 [==============================] - 0s 5ms/step - loss: 0.3907 - accuracy: 0.8827 - val_loss: 0.2123 - val_accuracy: 0.9769\n",
      "Epoch 7/1000\n",
      "41/53 [======================>.......] - ETA: 0s - loss: 0.3346 - accuracy: 0.8973\n",
      "Epoch 7: saving model to model/keypoint_classifier/keypoint_classifier.hdf5\n",
      "53/53 [==============================] - 0s 5ms/step - loss: 0.3290 - accuracy: 0.9004 - val_loss: 0.1651 - val_accuracy: 0.9778\n",
      "Epoch 8/1000\n",
      "41/53 [======================>.......] - ETA: 0s - loss: 0.2971 - accuracy: 0.9114\n",
      "Epoch 8: saving model to model/keypoint_classifier/keypoint_classifier.hdf5\n",
      "53/53 [==============================] - 0s 5ms/step - loss: 0.2953 - accuracy: 0.9098 - val_loss: 0.1308 - val_accuracy: 0.9800\n",
      "Epoch 9/1000\n",
      "41/53 [======================>.......] - ETA: 0s - loss: 0.2706 - accuracy: 0.9183\n",
      "Epoch 9: saving model to model/keypoint_classifier/keypoint_classifier.hdf5\n",
      "53/53 [==============================] - 0s 5ms/step - loss: 0.2680 - accuracy: 0.9196 - val_loss: 0.1114 - val_accuracy: 0.9800\n",
      "Epoch 10/1000\n",
      "42/53 [======================>.......] - ETA: 0s - loss: 0.2452 - accuracy: 0.9271\n",
      "Epoch 10: saving model to model/keypoint_classifier/keypoint_classifier.hdf5\n",
      "53/53 [==============================] - 0s 5ms/step - loss: 0.2440 - accuracy: 0.9283 - val_loss: 0.0950 - val_accuracy: 0.9813\n",
      "Epoch 11/1000\n",
      "41/53 [======================>.......] - ETA: 0s - loss: 0.2165 - accuracy: 0.9314\n",
      "Epoch 11: saving model to model/keypoint_classifier/keypoint_classifier.hdf5\n",
      "53/53 [==============================] - 0s 5ms/step - loss: 0.2159 - accuracy: 0.9323 - val_loss: 0.0852 - val_accuracy: 0.9831\n",
      "Epoch 12/1000\n",
      "42/53 [======================>.......] - ETA: 0s - loss: 0.2144 - accuracy: 0.9325\n",
      "Epoch 12: saving model to model/keypoint_classifier/keypoint_classifier.hdf5\n",
      "53/53 [==============================] - 0s 5ms/step - loss: 0.2077 - accuracy: 0.9364 - val_loss: 0.0740 - val_accuracy: 0.9840\n",
      "Epoch 13/1000\n",
      "53/53 [==============================] - ETA: 0s - loss: 0.1946 - accuracy: 0.9390\n",
      "Epoch 13: saving model to model/keypoint_classifier/keypoint_classifier.hdf5\n",
      "53/53 [==============================] - 0s 5ms/step - loss: 0.1946 - accuracy: 0.9390 - val_loss: 0.0710 - val_accuracy: 0.9836\n",
      "Epoch 14/1000\n",
      "41/53 [======================>.......] - ETA: 0s - loss: 0.1773 - accuracy: 0.9459\n",
      "Epoch 14: saving model to model/keypoint_classifier/keypoint_classifier.hdf5\n",
      "53/53 [==============================] - 0s 5ms/step - loss: 0.1789 - accuracy: 0.9447 - val_loss: 0.0652 - val_accuracy: 0.9836\n",
      "Epoch 15/1000\n",
      "53/53 [==============================] - ETA: 0s - loss: 0.1622 - accuracy: 0.9504\n",
      "Epoch 15: saving model to model/keypoint_classifier/keypoint_classifier.hdf5\n",
      "53/53 [==============================] - 0s 5ms/step - loss: 0.1622 - accuracy: 0.9504 - val_loss: 0.0582 - val_accuracy: 0.9836\n",
      "Epoch 16/1000\n",
      "43/53 [=======================>......] - ETA: 0s - loss: 0.1606 - accuracy: 0.9542\n",
      "Epoch 16: saving model to model/keypoint_classifier/keypoint_classifier.hdf5\n",
      "53/53 [==============================] - 0s 5ms/step - loss: 0.1573 - accuracy: 0.9548 - val_loss: 0.0566 - val_accuracy: 0.9849\n",
      "Epoch 17/1000\n",
      "42/53 [======================>.......] - ETA: 0s - loss: 0.1523 - accuracy: 0.9626\n",
      "Epoch 17: saving model to model/keypoint_classifier/keypoint_classifier.hdf5\n",
      "53/53 [==============================] - 0s 5ms/step - loss: 0.1505 - accuracy: 0.9615 - val_loss: 0.0544 - val_accuracy: 0.9853\n",
      "Epoch 18/1000\n",
      "53/53 [==============================] - ETA: 0s - loss: 0.1478 - accuracy: 0.9588\n",
      "Epoch 18: saving model to model/keypoint_classifier/keypoint_classifier.hdf5\n",
      "53/53 [==============================] - 0s 5ms/step - loss: 0.1478 - accuracy: 0.9588 - val_loss: 0.0487 - val_accuracy: 0.9867\n",
      "Epoch 19/1000\n",
      "53/53 [==============================] - ETA: 0s - loss: 0.1328 - accuracy: 0.9630\n",
      "Epoch 19: saving model to model/keypoint_classifier/keypoint_classifier.hdf5\n",
      "53/53 [==============================] - 0s 5ms/step - loss: 0.1328 - accuracy: 0.9630 - val_loss: 0.0506 - val_accuracy: 0.9853\n",
      "Epoch 20/1000\n",
      "41/53 [======================>.......] - ETA: 0s - loss: 0.1360 - accuracy: 0.9594\n",
      "Epoch 20: saving model to model/keypoint_classifier/keypoint_classifier.hdf5\n",
      "53/53 [==============================] - 0s 5ms/step - loss: 0.1352 - accuracy: 0.9599 - val_loss: 0.0455 - val_accuracy: 0.9871\n",
      "Epoch 21/1000\n",
      "42/53 [======================>.......] - ETA: 0s - loss: 0.1331 - accuracy: 0.9624\n",
      "Epoch 21: saving model to model/keypoint_classifier/keypoint_classifier.hdf5\n",
      "53/53 [==============================] - 0s 5ms/step - loss: 0.1338 - accuracy: 0.9619 - val_loss: 0.0455 - val_accuracy: 0.9867\n",
      "Epoch 22/1000\n",
      "41/53 [======================>.......] - ETA: 0s - loss: 0.1220 - accuracy: 0.9640\n",
      "Epoch 22: saving model to model/keypoint_classifier/keypoint_classifier.hdf5\n",
      "53/53 [==============================] - 0s 5ms/step - loss: 0.1209 - accuracy: 0.9653 - val_loss: 0.0440 - val_accuracy: 0.9862\n",
      "Epoch 23/1000\n",
      "42/53 [======================>.......] - ETA: 0s - loss: 0.1183 - accuracy: 0.9663\n",
      "Epoch 23: saving model to model/keypoint_classifier/keypoint_classifier.hdf5\n",
      "53/53 [==============================] - 0s 5ms/step - loss: 0.1198 - accuracy: 0.9652 - val_loss: 0.0400 - val_accuracy: 0.9871\n",
      "Epoch 24/1000\n",
      "42/53 [======================>.......] - ETA: 0s - loss: 0.1078 - accuracy: 0.9710\n",
      "Epoch 24: saving model to model/keypoint_classifier/keypoint_classifier.hdf5\n",
      "53/53 [==============================] - 0s 5ms/step - loss: 0.1120 - accuracy: 0.9693 - val_loss: 0.0384 - val_accuracy: 0.9876\n",
      "Epoch 25/1000\n",
      "41/53 [======================>.......] - ETA: 0s - loss: 0.1081 - accuracy: 0.9684\n",
      "Epoch 25: saving model to model/keypoint_classifier/keypoint_classifier.hdf5\n",
      "53/53 [==============================] - 0s 5ms/step - loss: 0.1070 - accuracy: 0.9698 - val_loss: 0.0404 - val_accuracy: 0.9871\n",
      "Epoch 26/1000\n",
      "41/53 [======================>.......] - ETA: 0s - loss: 0.1078 - accuracy: 0.9701\n",
      "Epoch 26: saving model to model/keypoint_classifier/keypoint_classifier.hdf5\n",
      "53/53 [==============================] - 0s 5ms/step - loss: 0.1124 - accuracy: 0.9681 - val_loss: 0.0345 - val_accuracy: 0.9893\n",
      "Epoch 27/1000\n",
      "43/53 [=======================>......] - ETA: 0s - loss: 0.1005 - accuracy: 0.9715\n",
      "Epoch 27: saving model to model/keypoint_classifier/keypoint_classifier.hdf5\n",
      "53/53 [==============================] - 0s 5ms/step - loss: 0.1013 - accuracy: 0.9713 - val_loss: 0.0372 - val_accuracy: 0.9880\n",
      "Epoch 28/1000\n",
      "42/53 [======================>.......] - ETA: 0s - loss: 0.1066 - accuracy: 0.9710\n",
      "Epoch 28: saving model to model/keypoint_classifier/keypoint_classifier.hdf5\n",
      "53/53 [==============================] - 0s 5ms/step - loss: 0.1063 - accuracy: 0.9708 - val_loss: 0.0351 - val_accuracy: 0.9893\n",
      "Epoch 29/1000\n",
      "52/53 [============================>.] - ETA: 0s - loss: 0.0912 - accuracy: 0.9737\n",
      "Epoch 29: saving model to model/keypoint_classifier/keypoint_classifier.hdf5\n",
      "53/53 [==============================] - 0s 5ms/step - loss: 0.0905 - accuracy: 0.9739 - val_loss: 0.0324 - val_accuracy: 0.9902\n",
      "Epoch 30/1000\n",
      "42/53 [======================>.......] - ETA: 0s - loss: 0.0890 - accuracy: 0.9762\n",
      "Epoch 30: saving model to model/keypoint_classifier/keypoint_classifier.hdf5\n",
      "53/53 [==============================] - 0s 5ms/step - loss: 0.0854 - accuracy: 0.9776 - val_loss: 0.0318 - val_accuracy: 0.9902\n",
      "Epoch 31/1000\n",
      "42/53 [======================>.......] - ETA: 0s - loss: 0.0928 - accuracy: 0.9728\n",
      "Epoch 31: saving model to model/keypoint_classifier/keypoint_classifier.hdf5\n",
      "53/53 [==============================] - 0s 5ms/step - loss: 0.0881 - accuracy: 0.9741 - val_loss: 0.0338 - val_accuracy: 0.9889\n",
      "Epoch 32/1000\n",
      "43/53 [=======================>......] - ETA: 0s - loss: 0.0785 - accuracy: 0.9764\n",
      "Epoch 32: saving model to model/keypoint_classifier/keypoint_classifier.hdf5\n",
      "53/53 [==============================] - 0s 5ms/step - loss: 0.0796 - accuracy: 0.9761 - val_loss: 0.0289 - val_accuracy: 0.9916\n",
      "Epoch 33/1000\n",
      "41/53 [======================>.......] - ETA: 0s - loss: 0.0870 - accuracy: 0.9745\n",
      "Epoch 33: saving model to model/keypoint_classifier/keypoint_classifier.hdf5\n",
      "53/53 [==============================] - 0s 5ms/step - loss: 0.0859 - accuracy: 0.9748 - val_loss: 0.0282 - val_accuracy: 0.9916\n",
      "Epoch 34/1000\n",
      "42/53 [======================>.......] - ETA: 0s - loss: 0.0805 - accuracy: 0.9758\n",
      "Epoch 34: saving model to model/keypoint_classifier/keypoint_classifier.hdf5\n",
      "53/53 [==============================] - 0s 5ms/step - loss: 0.0807 - accuracy: 0.9773 - val_loss: 0.0285 - val_accuracy: 0.9911\n",
      "Epoch 35/1000\n",
      "41/53 [======================>.......] - ETA: 0s - loss: 0.0817 - accuracy: 0.9762\n",
      "Epoch 35: saving model to model/keypoint_classifier/keypoint_classifier.hdf5\n",
      "53/53 [==============================] - 0s 5ms/step - loss: 0.0801 - accuracy: 0.9772 - val_loss: 0.0266 - val_accuracy: 0.9924\n",
      "Epoch 36/1000\n",
      "42/53 [======================>.......] - ETA: 0s - loss: 0.0711 - accuracy: 0.9782\n",
      "Epoch 36: saving model to model/keypoint_classifier/keypoint_classifier.hdf5\n",
      "53/53 [==============================] - 0s 5ms/step - loss: 0.0739 - accuracy: 0.9784 - val_loss: 0.0272 - val_accuracy: 0.9920\n",
      "Epoch 37/1000\n",
      "42/53 [======================>.......] - ETA: 0s - loss: 0.0723 - accuracy: 0.9799\n",
      "Epoch 37: saving model to model/keypoint_classifier/keypoint_classifier.hdf5\n",
      "53/53 [==============================] - 0s 5ms/step - loss: 0.0726 - accuracy: 0.9797 - val_loss: 0.0250 - val_accuracy: 0.9924\n",
      "Epoch 38/1000\n",
      "41/53 [======================>.......] - ETA: 0s - loss: 0.0751 - accuracy: 0.9783\n",
      "Epoch 38: saving model to model/keypoint_classifier/keypoint_classifier.hdf5\n",
      "53/53 [==============================] - 0s 5ms/step - loss: 0.0743 - accuracy: 0.9782 - val_loss: 0.0250 - val_accuracy: 0.9924\n",
      "Epoch 39/1000\n",
      "42/53 [======================>.......] - ETA: 0s - loss: 0.0677 - accuracy: 0.9795\n",
      "Epoch 39: saving model to model/keypoint_classifier/keypoint_classifier.hdf5\n",
      "53/53 [==============================] - 0s 5ms/step - loss: 0.0674 - accuracy: 0.9804 - val_loss: 0.0233 - val_accuracy: 0.9924\n",
      "Epoch 40/1000\n",
      "41/53 [======================>.......] - ETA: 0s - loss: 0.0654 - accuracy: 0.9817\n",
      "Epoch 40: saving model to model/keypoint_classifier/keypoint_classifier.hdf5\n",
      "53/53 [==============================] - 0s 5ms/step - loss: 0.0680 - accuracy: 0.9813 - val_loss: 0.0241 - val_accuracy: 0.9924\n",
      "Epoch 41/1000\n",
      "42/53 [======================>.......] - ETA: 0s - loss: 0.0643 - accuracy: 0.9816\n",
      "Epoch 41: saving model to model/keypoint_classifier/keypoint_classifier.hdf5\n",
      "53/53 [==============================] - 0s 5ms/step - loss: 0.0658 - accuracy: 0.9813 - val_loss: 0.0218 - val_accuracy: 0.9929\n",
      "Epoch 42/1000\n",
      "41/53 [======================>.......] - ETA: 0s - loss: 0.0651 - accuracy: 0.9817\n",
      "Epoch 42: saving model to model/keypoint_classifier/keypoint_classifier.hdf5\n",
      "53/53 [==============================] - 0s 5ms/step - loss: 0.0648 - accuracy: 0.9813 - val_loss: 0.0219 - val_accuracy: 0.9924\n",
      "Epoch 43/1000\n",
      "41/53 [======================>.......] - ETA: 0s - loss: 0.0671 - accuracy: 0.9808\n",
      "Epoch 43: saving model to model/keypoint_classifier/keypoint_classifier.hdf5\n",
      "53/53 [==============================] - 0s 5ms/step - loss: 0.0636 - accuracy: 0.9818 - val_loss: 0.0202 - val_accuracy: 0.9929\n",
      "Epoch 44/1000\n",
      "53/53 [==============================] - ETA: 0s - loss: 0.0588 - accuracy: 0.9831\n",
      "Epoch 44: saving model to model/keypoint_classifier/keypoint_classifier.hdf5\n",
      "53/53 [==============================] - 0s 5ms/step - loss: 0.0588 - accuracy: 0.9831 - val_loss: 0.0224 - val_accuracy: 0.9924\n",
      "Epoch 45/1000\n",
      "41/53 [======================>.......] - ETA: 0s - loss: 0.0537 - accuracy: 0.9834\n",
      "Epoch 45: saving model to model/keypoint_classifier/keypoint_classifier.hdf5\n",
      "53/53 [==============================] - 0s 5ms/step - loss: 0.0532 - accuracy: 0.9841 - val_loss: 0.0189 - val_accuracy: 0.9938\n",
      "Epoch 46/1000\n",
      "41/53 [======================>.......] - ETA: 0s - loss: 0.0588 - accuracy: 0.9829\n",
      "Epoch 46: saving model to model/keypoint_classifier/keypoint_classifier.hdf5\n",
      "53/53 [==============================] - 0s 5ms/step - loss: 0.0568 - accuracy: 0.9833 - val_loss: 0.0207 - val_accuracy: 0.9929\n",
      "Epoch 47/1000\n",
      "41/53 [======================>.......] - ETA: 0s - loss: 0.0618 - accuracy: 0.9827\n",
      "Epoch 47: saving model to model/keypoint_classifier/keypoint_classifier.hdf5\n",
      "53/53 [==============================] - 0s 5ms/step - loss: 0.0613 - accuracy: 0.9831 - val_loss: 0.0214 - val_accuracy: 0.9929\n",
      "Epoch 48/1000\n",
      "41/53 [======================>.......] - ETA: 0s - loss: 0.0553 - accuracy: 0.9817\n",
      "Epoch 48: saving model to model/keypoint_classifier/keypoint_classifier.hdf5\n",
      "53/53 [==============================] - 0s 5ms/step - loss: 0.0542 - accuracy: 0.9824 - val_loss: 0.0172 - val_accuracy: 0.9947\n",
      "Epoch 49/1000\n",
      "41/53 [======================>.......] - ETA: 0s - loss: 0.0552 - accuracy: 0.9840\n",
      "Epoch 49: saving model to model/keypoint_classifier/keypoint_classifier.hdf5\n",
      "53/53 [==============================] - 0s 5ms/step - loss: 0.0542 - accuracy: 0.9844 - val_loss: 0.0203 - val_accuracy: 0.9933\n",
      "Epoch 50/1000\n",
      "42/53 [======================>.......] - ETA: 0s - loss: 0.0477 - accuracy: 0.9866\n",
      "Epoch 50: saving model to model/keypoint_classifier/keypoint_classifier.hdf5\n",
      "53/53 [==============================] - 0s 5ms/step - loss: 0.0516 - accuracy: 0.9855 - val_loss: 0.0171 - val_accuracy: 0.9938\n",
      "Epoch 51/1000\n",
      "41/53 [======================>.......] - ETA: 0s - loss: 0.0499 - accuracy: 0.9851\n",
      "Epoch 51: saving model to model/keypoint_classifier/keypoint_classifier.hdf5\n",
      "53/53 [==============================] - 0s 5ms/step - loss: 0.0501 - accuracy: 0.9846 - val_loss: 0.0162 - val_accuracy: 0.9938\n",
      "Epoch 52/1000\n",
      "42/53 [======================>.......] - ETA: 0s - loss: 0.0616 - accuracy: 0.9831\n",
      "Epoch 52: saving model to model/keypoint_classifier/keypoint_classifier.hdf5\n",
      "53/53 [==============================] - 0s 5ms/step - loss: 0.0586 - accuracy: 0.9839 - val_loss: 0.0146 - val_accuracy: 0.9947\n",
      "Epoch 53/1000\n",
      "42/53 [======================>.......] - ETA: 0s - loss: 0.0535 - accuracy: 0.9860\n",
      "Epoch 53: saving model to model/keypoint_classifier/keypoint_classifier.hdf5\n",
      "53/53 [==============================] - 0s 5ms/step - loss: 0.0516 - accuracy: 0.9858 - val_loss: 0.0160 - val_accuracy: 0.9933\n",
      "Epoch 54/1000\n",
      "41/53 [======================>.......] - ETA: 0s - loss: 0.0520 - accuracy: 0.9844\n",
      "Epoch 54: saving model to model/keypoint_classifier/keypoint_classifier.hdf5\n",
      "53/53 [==============================] - 0s 5ms/step - loss: 0.0510 - accuracy: 0.9846 - val_loss: 0.0169 - val_accuracy: 0.9938\n",
      "Epoch 55/1000\n",
      "42/53 [======================>.......] - ETA: 0s - loss: 0.0539 - accuracy: 0.9834\n",
      "Epoch 55: saving model to model/keypoint_classifier/keypoint_classifier.hdf5\n",
      "53/53 [==============================] - 0s 5ms/step - loss: 0.0512 - accuracy: 0.9840 - val_loss: 0.0167 - val_accuracy: 0.9947\n",
      "Epoch 56/1000\n",
      "42/53 [======================>.......] - ETA: 0s - loss: 0.0496 - accuracy: 0.9849\n",
      "Epoch 56: saving model to model/keypoint_classifier/keypoint_classifier.hdf5\n",
      "53/53 [==============================] - 0s 5ms/step - loss: 0.0494 - accuracy: 0.9846 - val_loss: 0.0148 - val_accuracy: 0.9947\n",
      "Epoch 57/1000\n",
      "41/53 [======================>.......] - ETA: 0s - loss: 0.0477 - accuracy: 0.9863\n",
      "Epoch 57: saving model to model/keypoint_classifier/keypoint_classifier.hdf5\n",
      "53/53 [==============================] - 0s 5ms/step - loss: 0.0463 - accuracy: 0.9874 - val_loss: 0.0155 - val_accuracy: 0.9938\n",
      "Epoch 58/1000\n",
      "52/53 [============================>.] - ETA: 0s - loss: 0.0461 - accuracy: 0.9880\n",
      "Epoch 58: saving model to model/keypoint_classifier/keypoint_classifier.hdf5\n",
      "53/53 [==============================] - 0s 5ms/step - loss: 0.0460 - accuracy: 0.9880 - val_loss: 0.0140 - val_accuracy: 0.9951\n",
      "Epoch 59/1000\n",
      "42/53 [======================>.......] - ETA: 0s - loss: 0.0498 - accuracy: 0.9877\n",
      "Epoch 59: saving model to model/keypoint_classifier/keypoint_classifier.hdf5\n",
      "53/53 [==============================] - 0s 5ms/step - loss: 0.0513 - accuracy: 0.9874 - val_loss: 0.0152 - val_accuracy: 0.9947\n",
      "Epoch 60/1000\n",
      "42/53 [======================>.......] - ETA: 0s - loss: 0.0458 - accuracy: 0.9875\n",
      "Epoch 60: saving model to model/keypoint_classifier/keypoint_classifier.hdf5\n",
      "53/53 [==============================] - 0s 5ms/step - loss: 0.0490 - accuracy: 0.9876 - val_loss: 0.0126 - val_accuracy: 0.9951\n",
      "Epoch 61/1000\n",
      "43/53 [=======================>......] - ETA: 0s - loss: 0.0460 - accuracy: 0.9878\n",
      "Epoch 61: saving model to model/keypoint_classifier/keypoint_classifier.hdf5\n",
      "53/53 [==============================] - 0s 5ms/step - loss: 0.0431 - accuracy: 0.9884 - val_loss: 0.0138 - val_accuracy: 0.9947\n",
      "Epoch 62/1000\n",
      "42/53 [======================>.......] - ETA: 0s - loss: 0.0434 - accuracy: 0.9883\n",
      "Epoch 62: saving model to model/keypoint_classifier/keypoint_classifier.hdf5\n",
      "53/53 [==============================] - 0s 5ms/step - loss: 0.0421 - accuracy: 0.9889 - val_loss: 0.0133 - val_accuracy: 0.9942\n",
      "Epoch 63/1000\n",
      "41/53 [======================>.......] - ETA: 0s - loss: 0.0466 - accuracy: 0.9867\n",
      "Epoch 63: saving model to model/keypoint_classifier/keypoint_classifier.hdf5\n",
      "53/53 [==============================] - 0s 5ms/step - loss: 0.0464 - accuracy: 0.9868 - val_loss: 0.0130 - val_accuracy: 0.9951\n",
      "Epoch 64/1000\n",
      "41/53 [======================>.......] - ETA: 0s - loss: 0.0408 - accuracy: 0.9869\n",
      "Epoch 64: saving model to model/keypoint_classifier/keypoint_classifier.hdf5\n",
      "53/53 [==============================] - 0s 5ms/step - loss: 0.0432 - accuracy: 0.9862 - val_loss: 0.0127 - val_accuracy: 0.9951\n",
      "Epoch 65/1000\n",
      "43/53 [=======================>......] - ETA: 0s - loss: 0.0449 - accuracy: 0.9875\n",
      "Epoch 65: saving model to model/keypoint_classifier/keypoint_classifier.hdf5\n",
      "53/53 [==============================] - 0s 5ms/step - loss: 0.0426 - accuracy: 0.9889 - val_loss: 0.0130 - val_accuracy: 0.9951\n",
      "Epoch 66/1000\n",
      "42/53 [======================>.......] - ETA: 0s - loss: 0.0385 - accuracy: 0.9896\n",
      "Epoch 66: saving model to model/keypoint_classifier/keypoint_classifier.hdf5\n",
      "53/53 [==============================] - 0s 5ms/step - loss: 0.0387 - accuracy: 0.9899 - val_loss: 0.0102 - val_accuracy: 0.9960\n",
      "Epoch 67/1000\n",
      "41/53 [======================>.......] - ETA: 0s - loss: 0.0403 - accuracy: 0.9884\n",
      "Epoch 67: saving model to model/keypoint_classifier/keypoint_classifier.hdf5\n",
      "53/53 [==============================] - 0s 5ms/step - loss: 0.0398 - accuracy: 0.9879 - val_loss: 0.0118 - val_accuracy: 0.9956\n",
      "Epoch 68/1000\n",
      "42/53 [======================>.......] - ETA: 0s - loss: 0.0321 - accuracy: 0.9903\n",
      "Epoch 68: saving model to model/keypoint_classifier/keypoint_classifier.hdf5\n",
      "53/53 [==============================] - 0s 5ms/step - loss: 0.0329 - accuracy: 0.9904 - val_loss: 0.0105 - val_accuracy: 0.9951\n",
      "Epoch 69/1000\n",
      "41/53 [======================>.......] - ETA: 0s - loss: 0.0347 - accuracy: 0.9891\n",
      "Epoch 69: saving model to model/keypoint_classifier/keypoint_classifier.hdf5\n",
      "53/53 [==============================] - 0s 5ms/step - loss: 0.0351 - accuracy: 0.9889 - val_loss: 0.0102 - val_accuracy: 0.9960\n",
      "Epoch 70/1000\n",
      "41/53 [======================>.......] - ETA: 0s - loss: 0.0340 - accuracy: 0.9891\n",
      "Epoch 70: saving model to model/keypoint_classifier/keypoint_classifier.hdf5\n",
      "53/53 [==============================] - 0s 5ms/step - loss: 0.0347 - accuracy: 0.9893 - val_loss: 0.0092 - val_accuracy: 0.9960\n",
      "Epoch 71/1000\n",
      "53/53 [==============================] - ETA: 0s - loss: 0.0401 - accuracy: 0.9896\n",
      "Epoch 71: saving model to model/keypoint_classifier/keypoint_classifier.hdf5\n",
      "53/53 [==============================] - 0s 5ms/step - loss: 0.0401 - accuracy: 0.9896 - val_loss: 0.0130 - val_accuracy: 0.9951\n",
      "Epoch 72/1000\n",
      "40/53 [=====================>........] - ETA: 0s - loss: 0.0405 - accuracy: 0.9881\n",
      "Epoch 72: saving model to model/keypoint_classifier/keypoint_classifier.hdf5\n",
      "53/53 [==============================] - 0s 5ms/step - loss: 0.0380 - accuracy: 0.9889 - val_loss: 0.0123 - val_accuracy: 0.9956\n",
      "Epoch 73/1000\n",
      "42/53 [======================>.......] - ETA: 0s - loss: 0.0405 - accuracy: 0.9894\n",
      "Epoch 73: saving model to model/keypoint_classifier/keypoint_classifier.hdf5\n",
      "53/53 [==============================] - 0s 5ms/step - loss: 0.0381 - accuracy: 0.9901 - val_loss: 0.0110 - val_accuracy: 0.9956\n",
      "Epoch 74/1000\n",
      "41/53 [======================>.......] - ETA: 0s - loss: 0.0420 - accuracy: 0.9903\n",
      "Epoch 74: saving model to model/keypoint_classifier/keypoint_classifier.hdf5\n",
      "53/53 [==============================] - 0s 5ms/step - loss: 0.0393 - accuracy: 0.9914 - val_loss: 0.0122 - val_accuracy: 0.9951\n",
      "Epoch 75/1000\n",
      "42/53 [======================>.......] - ETA: 0s - loss: 0.0317 - accuracy: 0.9907\n",
      "Epoch 75: saving model to model/keypoint_classifier/keypoint_classifier.hdf5\n",
      "53/53 [==============================] - 0s 5ms/step - loss: 0.0331 - accuracy: 0.9904 - val_loss: 0.0101 - val_accuracy: 0.9960\n",
      "Epoch 76/1000\n",
      "41/53 [======================>.......] - ETA: 0s - loss: 0.0376 - accuracy: 0.9903\n",
      "Epoch 76: saving model to model/keypoint_classifier/keypoint_classifier.hdf5\n",
      "53/53 [==============================] - 0s 5ms/step - loss: 0.0374 - accuracy: 0.9901 - val_loss: 0.0100 - val_accuracy: 0.9964\n",
      "Epoch 77/1000\n",
      "41/53 [======================>.......] - ETA: 0s - loss: 0.0380 - accuracy: 0.9886\n",
      "Epoch 77: saving model to model/keypoint_classifier/keypoint_classifier.hdf5\n",
      "53/53 [==============================] - 0s 5ms/step - loss: 0.0355 - accuracy: 0.9892 - val_loss: 0.0097 - val_accuracy: 0.9960\n",
      "Epoch 78/1000\n",
      "40/53 [=====================>........] - ETA: 0s - loss: 0.0336 - accuracy: 0.9922\n",
      "Epoch 78: saving model to model/keypoint_classifier/keypoint_classifier.hdf5\n",
      "53/53 [==============================] - 0s 5ms/step - loss: 0.0341 - accuracy: 0.9919 - val_loss: 0.0100 - val_accuracy: 0.9960\n",
      "Epoch 79/1000\n",
      "42/53 [======================>.......] - ETA: 0s - loss: 0.0361 - accuracy: 0.9911\n",
      "Epoch 79: saving model to model/keypoint_classifier/keypoint_classifier.hdf5\n",
      "53/53 [==============================] - 0s 5ms/step - loss: 0.0364 - accuracy: 0.9905 - val_loss: 0.0087 - val_accuracy: 0.9960\n",
      "Epoch 80/1000\n",
      "41/53 [======================>.......] - ETA: 0s - loss: 0.0351 - accuracy: 0.9903\n",
      "Epoch 80: saving model to model/keypoint_classifier/keypoint_classifier.hdf5\n",
      "53/53 [==============================] - 0s 5ms/step - loss: 0.0327 - accuracy: 0.9905 - val_loss: 0.0108 - val_accuracy: 0.9956\n",
      "Epoch 81/1000\n",
      "51/53 [===========================>..] - ETA: 0s - loss: 0.0371 - accuracy: 0.9900\n",
      "Epoch 81: saving model to model/keypoint_classifier/keypoint_classifier.hdf5\n",
      "53/53 [==============================] - 0s 5ms/step - loss: 0.0371 - accuracy: 0.9901 - val_loss: 0.0096 - val_accuracy: 0.9960\n",
      "Epoch 82/1000\n",
      "41/53 [======================>.......] - ETA: 0s - loss: 0.0394 - accuracy: 0.9880\n",
      "Epoch 82: saving model to model/keypoint_classifier/keypoint_classifier.hdf5\n",
      "53/53 [==============================] - 0s 5ms/step - loss: 0.0362 - accuracy: 0.9890 - val_loss: 0.0105 - val_accuracy: 0.9951\n",
      "Epoch 83/1000\n",
      "41/53 [======================>.......] - ETA: 0s - loss: 0.0305 - accuracy: 0.9924\n",
      "Epoch 83: saving model to model/keypoint_classifier/keypoint_classifier.hdf5\n",
      "53/53 [==============================] - 0s 5ms/step - loss: 0.0318 - accuracy: 0.9919 - val_loss: 0.0116 - val_accuracy: 0.9956\n",
      "Epoch 84/1000\n",
      "53/53 [==============================] - ETA: 0s - loss: 0.0314 - accuracy: 0.9917\n",
      "Epoch 84: saving model to model/keypoint_classifier/keypoint_classifier.hdf5\n",
      "53/53 [==============================] - 0s 5ms/step - loss: 0.0314 - accuracy: 0.9917 - val_loss: 0.0093 - val_accuracy: 0.9964\n",
      "Epoch 85/1000\n",
      "42/53 [======================>.......] - ETA: 0s - loss: 0.0329 - accuracy: 0.9916\n",
      "Epoch 85: saving model to model/keypoint_classifier/keypoint_classifier.hdf5\n",
      "53/53 [==============================] - 0s 5ms/step - loss: 0.0319 - accuracy: 0.9921 - val_loss: 0.0088 - val_accuracy: 0.9960\n",
      "Epoch 86/1000\n",
      "42/53 [======================>.......] - ETA: 0s - loss: 0.0338 - accuracy: 0.9898\n",
      "Epoch 86: saving model to model/keypoint_classifier/keypoint_classifier.hdf5\n",
      "53/53 [==============================] - 0s 5ms/step - loss: 0.0341 - accuracy: 0.9890 - val_loss: 0.0106 - val_accuracy: 0.9956\n",
      "Epoch 87/1000\n",
      "43/53 [=======================>......] - ETA: 0s - loss: 0.0287 - accuracy: 0.9898\n",
      "Epoch 87: saving model to model/keypoint_classifier/keypoint_classifier.hdf5\n",
      "53/53 [==============================] - 0s 5ms/step - loss: 0.0333 - accuracy: 0.9893 - val_loss: 0.0086 - val_accuracy: 0.9960\n",
      "Epoch 88/1000\n",
      "41/53 [======================>.......] - ETA: 0s - loss: 0.0289 - accuracy: 0.9922\n",
      "Epoch 88: saving model to model/keypoint_classifier/keypoint_classifier.hdf5\n",
      "53/53 [==============================] - 0s 5ms/step - loss: 0.0296 - accuracy: 0.9923 - val_loss: 0.0088 - val_accuracy: 0.9960\n",
      "Epoch 89/1000\n",
      "41/53 [======================>.......] - ETA: 0s - loss: 0.0313 - accuracy: 0.9909\n",
      "Epoch 89: saving model to model/keypoint_classifier/keypoint_classifier.hdf5\n",
      "53/53 [==============================] - 0s 5ms/step - loss: 0.0319 - accuracy: 0.9911 - val_loss: 0.0090 - val_accuracy: 0.9960\n",
      "Epoch 90/1000\n",
      "44/53 [=======================>......] - ETA: 0s - loss: 0.0352 - accuracy: 0.9922\n",
      "Epoch 90: saving model to model/keypoint_classifier/keypoint_classifier.hdf5\n",
      "53/53 [==============================] - 0s 5ms/step - loss: 0.0366 - accuracy: 0.9924 - val_loss: 0.0094 - val_accuracy: 0.9960\n",
      "Epoch 91/1000\n",
      "43/53 [=======================>......] - ETA: 0s - loss: 0.0281 - accuracy: 0.9920\n",
      "Epoch 91: saving model to model/keypoint_classifier/keypoint_classifier.hdf5\n",
      "53/53 [==============================] - 0s 5ms/step - loss: 0.0297 - accuracy: 0.9923 - val_loss: 0.0095 - val_accuracy: 0.9964\n",
      "Epoch 92/1000\n",
      "41/53 [======================>.......] - ETA: 0s - loss: 0.0274 - accuracy: 0.9935\n",
      "Epoch 92: saving model to model/keypoint_classifier/keypoint_classifier.hdf5\n",
      "53/53 [==============================] - 0s 5ms/step - loss: 0.0266 - accuracy: 0.9936 - val_loss: 0.0093 - val_accuracy: 0.9960\n",
      "Epoch 93/1000\n",
      "41/53 [======================>.......] - ETA: 0s - loss: 0.0367 - accuracy: 0.9891\n",
      "Epoch 93: saving model to model/keypoint_classifier/keypoint_classifier.hdf5\n",
      "53/53 [==============================] - 0s 5ms/step - loss: 0.0352 - accuracy: 0.9895 - val_loss: 0.0096 - val_accuracy: 0.9964\n",
      "Epoch 94/1000\n",
      "53/53 [==============================] - ETA: 0s - loss: 0.0294 - accuracy: 0.9932\n",
      "Epoch 94: saving model to model/keypoint_classifier/keypoint_classifier.hdf5\n",
      "53/53 [==============================] - 0s 5ms/step - loss: 0.0294 - accuracy: 0.9932 - val_loss: 0.0104 - val_accuracy: 0.9960\n",
      "Epoch 95/1000\n",
      "53/53 [==============================] - ETA: 0s - loss: 0.0321 - accuracy: 0.9924\n",
      "Epoch 95: saving model to model/keypoint_classifier/keypoint_classifier.hdf5\n",
      "53/53 [==============================] - 0s 5ms/step - loss: 0.0321 - accuracy: 0.9924 - val_loss: 0.0078 - val_accuracy: 0.9960\n",
      "Epoch 96/1000\n",
      "41/53 [======================>.......] - ETA: 0s - loss: 0.0307 - accuracy: 0.9926\n",
      "Epoch 96: saving model to model/keypoint_classifier/keypoint_classifier.hdf5\n",
      "53/53 [==============================] - 0s 5ms/step - loss: 0.0313 - accuracy: 0.9926 - val_loss: 0.0089 - val_accuracy: 0.9964\n",
      "Epoch 97/1000\n",
      "42/53 [======================>.......] - ETA: 0s - loss: 0.0306 - accuracy: 0.9918\n",
      "Epoch 97: saving model to model/keypoint_classifier/keypoint_classifier.hdf5\n",
      "53/53 [==============================] - 0s 5ms/step - loss: 0.0302 - accuracy: 0.9919 - val_loss: 0.0104 - val_accuracy: 0.9960\n",
      "Epoch 98/1000\n",
      "41/53 [======================>.......] - ETA: 0s - loss: 0.0243 - accuracy: 0.9928\n",
      "Epoch 98: saving model to model/keypoint_classifier/keypoint_classifier.hdf5\n",
      "53/53 [==============================] - 0s 5ms/step - loss: 0.0277 - accuracy: 0.9917 - val_loss: 0.0100 - val_accuracy: 0.9956\n",
      "Epoch 99/1000\n",
      "42/53 [======================>.......] - ETA: 0s - loss: 0.0328 - accuracy: 0.9911\n",
      "Epoch 99: saving model to model/keypoint_classifier/keypoint_classifier.hdf5\n",
      "53/53 [==============================] - 0s 5ms/step - loss: 0.0324 - accuracy: 0.9914 - val_loss: 0.0088 - val_accuracy: 0.9960\n",
      "Epoch 100/1000\n",
      "42/53 [======================>.......] - ETA: 0s - loss: 0.0282 - accuracy: 0.9927\n",
      "Epoch 100: saving model to model/keypoint_classifier/keypoint_classifier.hdf5\n",
      "53/53 [==============================] - 0s 5ms/step - loss: 0.0285 - accuracy: 0.9924 - val_loss: 0.0078 - val_accuracy: 0.9964\n",
      "Epoch 101/1000\n",
      "42/53 [======================>.......] - ETA: 0s - loss: 0.0237 - accuracy: 0.9931\n",
      "Epoch 101: saving model to model/keypoint_classifier/keypoint_classifier.hdf5\n",
      "53/53 [==============================] - 0s 5ms/step - loss: 0.0251 - accuracy: 0.9926 - val_loss: 0.0094 - val_accuracy: 0.9960\n",
      "Epoch 102/1000\n",
      "50/53 [===========================>..] - ETA: 0s - loss: 0.0346 - accuracy: 0.9914\n",
      "Epoch 102: saving model to model/keypoint_classifier/keypoint_classifier.hdf5\n",
      "53/53 [==============================] - 0s 5ms/step - loss: 0.0349 - accuracy: 0.9910 - val_loss: 0.0088 - val_accuracy: 0.9964\n",
      "Epoch 103/1000\n",
      "41/53 [======================>.......] - ETA: 0s - loss: 0.0256 - accuracy: 0.9929\n",
      "Epoch 103: saving model to model/keypoint_classifier/keypoint_classifier.hdf5\n",
      "53/53 [==============================] - 0s 5ms/step - loss: 0.0267 - accuracy: 0.9929 - val_loss: 0.0096 - val_accuracy: 0.9960\n",
      "Epoch 104/1000\n",
      "53/53 [==============================] - ETA: 0s - loss: 0.0313 - accuracy: 0.9921\n",
      "Epoch 104: saving model to model/keypoint_classifier/keypoint_classifier.hdf5\n",
      "53/53 [==============================] - 0s 5ms/step - loss: 0.0313 - accuracy: 0.9921 - val_loss: 0.0083 - val_accuracy: 0.9964\n",
      "Epoch 105/1000\n",
      "42/53 [======================>.......] - ETA: 0s - loss: 0.0267 - accuracy: 0.9929\n",
      "Epoch 105: saving model to model/keypoint_classifier/keypoint_classifier.hdf5\n",
      "53/53 [==============================] - 0s 5ms/step - loss: 0.0272 - accuracy: 0.9924 - val_loss: 0.0090 - val_accuracy: 0.9960\n",
      "Epoch 106/1000\n",
      "42/53 [======================>.......] - ETA: 0s - loss: 0.0313 - accuracy: 0.9918\n",
      "Epoch 106: saving model to model/keypoint_classifier/keypoint_classifier.hdf5\n",
      "53/53 [==============================] - 0s 5ms/step - loss: 0.0297 - accuracy: 0.9926 - val_loss: 0.0089 - val_accuracy: 0.9960\n",
      "Epoch 107/1000\n",
      "42/53 [======================>.......] - ETA: 0s - loss: 0.0305 - accuracy: 0.9924\n",
      "Epoch 107: saving model to model/keypoint_classifier/keypoint_classifier.hdf5\n",
      "53/53 [==============================] - 0s 5ms/step - loss: 0.0314 - accuracy: 0.9919 - val_loss: 0.0081 - val_accuracy: 0.9960\n",
      "Epoch 108/1000\n",
      "42/53 [======================>.......] - ETA: 0s - loss: 0.0248 - accuracy: 0.9922\n",
      "Epoch 108: saving model to model/keypoint_classifier/keypoint_classifier.hdf5\n",
      "53/53 [==============================] - 0s 5ms/step - loss: 0.0254 - accuracy: 0.9924 - val_loss: 0.0076 - val_accuracy: 0.9964\n",
      "Epoch 109/1000\n",
      "41/53 [======================>.......] - ETA: 0s - loss: 0.0225 - accuracy: 0.9941\n",
      "Epoch 109: saving model to model/keypoint_classifier/keypoint_classifier.hdf5\n",
      "53/53 [==============================] - 0s 5ms/step - loss: 0.0271 - accuracy: 0.9930 - val_loss: 0.0101 - val_accuracy: 0.9960\n",
      "Epoch 110/1000\n",
      "42/53 [======================>.......] - ETA: 0s - loss: 0.0258 - accuracy: 0.9927\n",
      "Epoch 110: saving model to model/keypoint_classifier/keypoint_classifier.hdf5\n",
      "53/53 [==============================] - 0s 5ms/step - loss: 0.0250 - accuracy: 0.9930 - val_loss: 0.0089 - val_accuracy: 0.9960\n",
      "Epoch 111/1000\n",
      "42/53 [======================>.......] - ETA: 0s - loss: 0.0289 - accuracy: 0.9911\n",
      "Epoch 111: saving model to model/keypoint_classifier/keypoint_classifier.hdf5\n",
      "53/53 [==============================] - 0s 5ms/step - loss: 0.0291 - accuracy: 0.9907 - val_loss: 0.0080 - val_accuracy: 0.9960\n",
      "Epoch 112/1000\n",
      "43/53 [=======================>......] - ETA: 0s - loss: 0.0264 - accuracy: 0.9935\n",
      "Epoch 112: saving model to model/keypoint_classifier/keypoint_classifier.hdf5\n",
      "53/53 [==============================] - 0s 5ms/step - loss: 0.0294 - accuracy: 0.9930 - val_loss: 0.0093 - val_accuracy: 0.9960\n",
      "Epoch 113/1000\n",
      "41/53 [======================>.......] - ETA: 0s - loss: 0.0308 - accuracy: 0.9916\n",
      "Epoch 113: saving model to model/keypoint_classifier/keypoint_classifier.hdf5\n",
      "53/53 [==============================] - 0s 5ms/step - loss: 0.0341 - accuracy: 0.9911 - val_loss: 0.0085 - val_accuracy: 0.9960\n",
      "Epoch 114/1000\n",
      "43/53 [=======================>......] - ETA: 0s - loss: 0.0285 - accuracy: 0.9906\n",
      "Epoch 114: saving model to model/keypoint_classifier/keypoint_classifier.hdf5\n",
      "53/53 [==============================] - 0s 5ms/step - loss: 0.0273 - accuracy: 0.9916 - val_loss: 0.0068 - val_accuracy: 0.9960\n",
      "Epoch 115/1000\n",
      "42/53 [======================>.......] - ETA: 0s - loss: 0.0299 - accuracy: 0.9933\n",
      "Epoch 115: saving model to model/keypoint_classifier/keypoint_classifier.hdf5\n",
      "53/53 [==============================] - 0s 5ms/step - loss: 0.0308 - accuracy: 0.9927 - val_loss: 0.0071 - val_accuracy: 0.9960\n",
      "Epoch 116/1000\n",
      "42/53 [======================>.......] - ETA: 0s - loss: 0.0275 - accuracy: 0.9939\n",
      "Epoch 116: saving model to model/keypoint_classifier/keypoint_classifier.hdf5\n",
      "53/53 [==============================] - 0s 5ms/step - loss: 0.0293 - accuracy: 0.9929 - val_loss: 0.0083 - val_accuracy: 0.9951\n",
      "Epoch 117/1000\n",
      "41/53 [======================>.......] - ETA: 0s - loss: 0.0303 - accuracy: 0.9931\n",
      "Epoch 117: saving model to model/keypoint_classifier/keypoint_classifier.hdf5\n",
      "53/53 [==============================] - 0s 5ms/step - loss: 0.0287 - accuracy: 0.9935 - val_loss: 0.0062 - val_accuracy: 0.9964\n",
      "Epoch 118/1000\n",
      "41/53 [======================>.......] - ETA: 0s - loss: 0.0210 - accuracy: 0.9939\n",
      "Epoch 118: saving model to model/keypoint_classifier/keypoint_classifier.hdf5\n",
      "53/53 [==============================] - 0s 5ms/step - loss: 0.0283 - accuracy: 0.9923 - val_loss: 0.0077 - val_accuracy: 0.9960\n",
      "Epoch 119/1000\n",
      "42/53 [======================>.......] - ETA: 0s - loss: 0.0299 - accuracy: 0.9918\n",
      "Epoch 119: saving model to model/keypoint_classifier/keypoint_classifier.hdf5\n",
      "53/53 [==============================] - 0s 5ms/step - loss: 0.0288 - accuracy: 0.9917 - val_loss: 0.0086 - val_accuracy: 0.9960\n",
      "Epoch 120/1000\n",
      "41/53 [======================>.......] - ETA: 0s - loss: 0.0282 - accuracy: 0.9914\n",
      "Epoch 120: saving model to model/keypoint_classifier/keypoint_classifier.hdf5\n",
      "53/53 [==============================] - 0s 5ms/step - loss: 0.0299 - accuracy: 0.9908 - val_loss: 0.0058 - val_accuracy: 0.9964\n",
      "Epoch 121/1000\n",
      "49/53 [==========================>...] - ETA: 0s - loss: 0.0328 - accuracy: 0.9915\n",
      "Epoch 121: saving model to model/keypoint_classifier/keypoint_classifier.hdf5\n",
      "53/53 [==============================] - 0s 5ms/step - loss: 0.0326 - accuracy: 0.9914 - val_loss: 0.0064 - val_accuracy: 0.9960\n",
      "Epoch 122/1000\n",
      "41/53 [======================>.......] - ETA: 0s - loss: 0.0293 - accuracy: 0.9920\n",
      "Epoch 122: saving model to model/keypoint_classifier/keypoint_classifier.hdf5\n",
      "53/53 [==============================] - 0s 5ms/step - loss: 0.0307 - accuracy: 0.9919 - val_loss: 0.0067 - val_accuracy: 0.9951\n",
      "Epoch 123/1000\n",
      "42/53 [======================>.......] - ETA: 0s - loss: 0.0310 - accuracy: 0.9911\n",
      "Epoch 123: saving model to model/keypoint_classifier/keypoint_classifier.hdf5\n",
      "53/53 [==============================] - 0s 5ms/step - loss: 0.0321 - accuracy: 0.9904 - val_loss: 0.0070 - val_accuracy: 0.9964\n",
      "Epoch 124/1000\n",
      "41/53 [======================>.......] - ETA: 0s - loss: 0.0313 - accuracy: 0.9909\n",
      "Epoch 124: saving model to model/keypoint_classifier/keypoint_classifier.hdf5\n",
      "53/53 [==============================] - 0s 5ms/step - loss: 0.0297 - accuracy: 0.9914 - val_loss: 0.0088 - val_accuracy: 0.9964\n",
      "Epoch 125/1000\n",
      "42/53 [======================>.......] - ETA: 0s - loss: 0.0320 - accuracy: 0.9926\n",
      "Epoch 125: saving model to model/keypoint_classifier/keypoint_classifier.hdf5\n",
      "53/53 [==============================] - 0s 5ms/step - loss: 0.0307 - accuracy: 0.9924 - val_loss: 0.0088 - val_accuracy: 0.9960\n",
      "Epoch 126/1000\n",
      "42/53 [======================>.......] - ETA: 0s - loss: 0.0329 - accuracy: 0.9907\n",
      "Epoch 126: saving model to model/keypoint_classifier/keypoint_classifier.hdf5\n",
      "53/53 [==============================] - 0s 5ms/step - loss: 0.0328 - accuracy: 0.9907 - val_loss: 0.0073 - val_accuracy: 0.9960\n",
      "Epoch 127/1000\n",
      "41/53 [======================>.......] - ETA: 0s - loss: 0.0334 - accuracy: 0.9914\n",
      "Epoch 127: saving model to model/keypoint_classifier/keypoint_classifier.hdf5\n",
      "53/53 [==============================] - 0s 5ms/step - loss: 0.0323 - accuracy: 0.9916 - val_loss: 0.0093 - val_accuracy: 0.9960\n",
      "Epoch 128/1000\n",
      "40/53 [=====================>........] - ETA: 0s - loss: 0.0272 - accuracy: 0.9936\n",
      "Epoch 128: saving model to model/keypoint_classifier/keypoint_classifier.hdf5\n",
      "53/53 [==============================] - 0s 5ms/step - loss: 0.0285 - accuracy: 0.9930 - val_loss: 0.0053 - val_accuracy: 0.9969\n",
      "Epoch 129/1000\n",
      "41/53 [======================>.......] - ETA: 0s - loss: 0.0250 - accuracy: 0.9941\n",
      "Epoch 129: saving model to model/keypoint_classifier/keypoint_classifier.hdf5\n",
      "53/53 [==============================] - 0s 5ms/step - loss: 0.0260 - accuracy: 0.9936 - val_loss: 0.0093 - val_accuracy: 0.9960\n",
      "Epoch 130/1000\n",
      "41/53 [======================>.......] - ETA: 0s - loss: 0.0317 - accuracy: 0.9903\n",
      "Epoch 130: saving model to model/keypoint_classifier/keypoint_classifier.hdf5\n",
      "53/53 [==============================] - 0s 5ms/step - loss: 0.0292 - accuracy: 0.9911 - val_loss: 0.0074 - val_accuracy: 0.9960\n",
      "Epoch 131/1000\n",
      "40/53 [=====================>........] - ETA: 0s - loss: 0.0321 - accuracy: 0.9910\n",
      "Epoch 131: saving model to model/keypoint_classifier/keypoint_classifier.hdf5\n",
      "53/53 [==============================] - 0s 5ms/step - loss: 0.0302 - accuracy: 0.9919 - val_loss: 0.0056 - val_accuracy: 0.9960\n",
      "Epoch 132/1000\n",
      "41/53 [======================>.......] - ETA: 0s - loss: 0.0249 - accuracy: 0.9931\n",
      "Epoch 132: saving model to model/keypoint_classifier/keypoint_classifier.hdf5\n",
      "53/53 [==============================] - 0s 5ms/step - loss: 0.0271 - accuracy: 0.9927 - val_loss: 0.0093 - val_accuracy: 0.9964\n",
      "Epoch 133/1000\n",
      "41/53 [======================>.......] - ETA: 0s - loss: 0.0263 - accuracy: 0.9933\n",
      "Epoch 133: saving model to model/keypoint_classifier/keypoint_classifier.hdf5\n",
      "53/53 [==============================] - 0s 5ms/step - loss: 0.0274 - accuracy: 0.9930 - val_loss: 0.0081 - val_accuracy: 0.9960\n",
      "Epoch 134/1000\n",
      "52/53 [============================>.] - ETA: 0s - loss: 0.0296 - accuracy: 0.9916\n",
      "Epoch 134: saving model to model/keypoint_classifier/keypoint_classifier.hdf5\n",
      "53/53 [==============================] - 0s 5ms/step - loss: 0.0294 - accuracy: 0.9916 - val_loss: 0.0076 - val_accuracy: 0.9960\n",
      "Epoch 135/1000\n",
      "41/53 [======================>.......] - ETA: 0s - loss: 0.0302 - accuracy: 0.9912\n",
      "Epoch 135: saving model to model/keypoint_classifier/keypoint_classifier.hdf5\n",
      "53/53 [==============================] - 0s 5ms/step - loss: 0.0311 - accuracy: 0.9916 - val_loss: 0.0068 - val_accuracy: 0.9964\n",
      "Epoch 136/1000\n",
      "53/53 [==============================] - ETA: 0s - loss: 0.0342 - accuracy: 0.9917\n",
      "Epoch 136: saving model to model/keypoint_classifier/keypoint_classifier.hdf5\n",
      "53/53 [==============================] - 0s 5ms/step - loss: 0.0342 - accuracy: 0.9917 - val_loss: 0.0059 - val_accuracy: 0.9960\n",
      "Epoch 137/1000\n",
      "43/53 [=======================>......] - ETA: 0s - loss: 0.0298 - accuracy: 0.9918\n",
      "Epoch 137: saving model to model/keypoint_classifier/keypoint_classifier.hdf5\n",
      "53/53 [==============================] - 0s 5ms/step - loss: 0.0313 - accuracy: 0.9910 - val_loss: 0.0077 - val_accuracy: 0.9960\n",
      "Epoch 138/1000\n",
      "53/53 [==============================] - ETA: 0s - loss: 0.0325 - accuracy: 0.9914\n",
      "Epoch 138: saving model to model/keypoint_classifier/keypoint_classifier.hdf5\n",
      "53/53 [==============================] - 0s 5ms/step - loss: 0.0325 - accuracy: 0.9914 - val_loss: 0.0055 - val_accuracy: 0.9964\n",
      "Epoch 139/1000\n",
      "42/53 [======================>.......] - ETA: 0s - loss: 0.0223 - accuracy: 0.9937\n",
      "Epoch 139: saving model to model/keypoint_classifier/keypoint_classifier.hdf5\n",
      "53/53 [==============================] - 0s 5ms/step - loss: 0.0237 - accuracy: 0.9932 - val_loss: 0.0084 - val_accuracy: 0.9964\n",
      "Epoch 140/1000\n",
      "41/53 [======================>.......] - ETA: 0s - loss: 0.0298 - accuracy: 0.9907\n",
      "Epoch 140: saving model to model/keypoint_classifier/keypoint_classifier.hdf5\n",
      "53/53 [==============================] - 0s 5ms/step - loss: 0.0306 - accuracy: 0.9905 - val_loss: 0.0060 - val_accuracy: 0.9960\n",
      "Epoch 141/1000\n",
      "42/53 [======================>.......] - ETA: 0s - loss: 0.0258 - accuracy: 0.9929\n",
      "Epoch 141: saving model to model/keypoint_classifier/keypoint_classifier.hdf5\n",
      "53/53 [==============================] - 0s 5ms/step - loss: 0.0295 - accuracy: 0.9920 - val_loss: 0.0058 - val_accuracy: 0.9960\n",
      "Epoch 142/1000\n",
      "53/53 [==============================] - ETA: 0s - loss: 0.0283 - accuracy: 0.9932\n",
      "Epoch 142: saving model to model/keypoint_classifier/keypoint_classifier.hdf5\n",
      "53/53 [==============================] - 0s 5ms/step - loss: 0.0283 - accuracy: 0.9932 - val_loss: 0.0056 - val_accuracy: 0.9964\n",
      "Epoch 143/1000\n",
      "43/53 [=======================>......] - ETA: 0s - loss: 0.0309 - accuracy: 0.9913\n",
      "Epoch 143: saving model to model/keypoint_classifier/keypoint_classifier.hdf5\n",
      "53/53 [==============================] - 0s 5ms/step - loss: 0.0294 - accuracy: 0.9921 - val_loss: 0.0063 - val_accuracy: 0.9964\n",
      "Epoch 144/1000\n",
      "42/53 [======================>.......] - ETA: 0s - loss: 0.0259 - accuracy: 0.9924\n",
      "Epoch 144: saving model to model/keypoint_classifier/keypoint_classifier.hdf5\n",
      "53/53 [==============================] - 0s 5ms/step - loss: 0.0242 - accuracy: 0.9930 - val_loss: 0.0056 - val_accuracy: 0.9960\n",
      "Epoch 145/1000\n",
      "42/53 [======================>.......] - ETA: 0s - loss: 0.0285 - accuracy: 0.9911\n",
      "Epoch 145: saving model to model/keypoint_classifier/keypoint_classifier.hdf5\n",
      "53/53 [==============================] - 0s 5ms/step - loss: 0.0277 - accuracy: 0.9920 - val_loss: 0.0061 - val_accuracy: 0.9964\n",
      "Epoch 146/1000\n",
      "41/53 [======================>.......] - ETA: 0s - loss: 0.0244 - accuracy: 0.9922\n",
      "Epoch 146: saving model to model/keypoint_classifier/keypoint_classifier.hdf5\n",
      "53/53 [==============================] - 0s 5ms/step - loss: 0.0268 - accuracy: 0.9911 - val_loss: 0.0056 - val_accuracy: 0.9964\n",
      "Epoch 147/1000\n",
      "42/53 [======================>.......] - ETA: 0s - loss: 0.0256 - accuracy: 0.9931\n",
      "Epoch 147: saving model to model/keypoint_classifier/keypoint_classifier.hdf5\n",
      "53/53 [==============================] - 0s 5ms/step - loss: 0.0255 - accuracy: 0.9927 - val_loss: 0.0061 - val_accuracy: 0.9964\n",
      "Epoch 148/1000\n",
      "53/53 [==============================] - ETA: 0s - loss: 0.0249 - accuracy: 0.9913\n",
      "Epoch 148: saving model to model/keypoint_classifier/keypoint_classifier.hdf5\n",
      "53/53 [==============================] - 0s 5ms/step - loss: 0.0249 - accuracy: 0.9913 - val_loss: 0.0068 - val_accuracy: 0.9964\n",
      "Epoch 148: early stopping\n"
     ]
    },
    {
     "data": {
      "text/plain": [
       "<keras.src.callbacks.History at 0x1459ff6d0>"
      ]
     },
     "execution_count": 11,
     "metadata": {},
     "output_type": "execute_result"
    }
   ],
   "source": [
    "model.fit(\n",
    "    X_train,\n",
    "    y_train,\n",
    "    epochs=1000,\n",
    "    batch_size=128,\n",
    "    validation_data=(X_test, y_test),\n",
    "    callbacks=[cp_callback, es_callback]\n",
    ")"
   ]
  },
  {
   "cell_type": "code",
   "execution_count": 12,
   "metadata": {
    "colab": {
     "base_uri": "https://localhost:8080/"
    },
    "id": "pxvb2Y299hE3",
    "outputId": "59eb3185-2e37-4b9e-bc9d-ab1b8ac29b7f"
   },
   "outputs": [
    {
     "name": "stdout",
     "output_type": "stream",
     "text": [
      "18/18 [==============================] - 0s 3ms/step - loss: 0.0068 - accuracy: 0.9964\n"
     ]
    }
   ],
   "source": [
    "# Model evaluation\n",
    "val_loss, val_acc = model.evaluate(X_test, y_test, batch_size=128)"
   ]
  },
  {
   "cell_type": "code",
   "execution_count": 13,
   "metadata": {
    "id": "RBkmDeUW9hE4"
   },
   "outputs": [],
   "source": [
    "# Loading the saved model\n",
    "model = tf.keras.models.load_model(model_save_path)"
   ]
  },
  {
   "cell_type": "code",
   "execution_count": 14,
   "metadata": {
    "colab": {
     "base_uri": "https://localhost:8080/"
    },
    "id": "tFz9Tb0I9hE4",
    "outputId": "1c3b3528-54ae-4ee2-ab04-77429211cbef"
   },
   "outputs": [
    {
     "name": "stdout",
     "output_type": "stream",
     "text": [
      "1/1 [==============================] - 0s 37ms/step\n",
      "[9.8258596e-16 2.1671178e-16 8.8157765e-16 3.7395911e-12 3.1277519e-05\n",
      " 9.9996877e-01]\n",
      "5\n"
     ]
    }
   ],
   "source": [
    "# Inference test\n",
    "predict_result = model.predict(np.array([X_test[0]]))\n",
    "print(np.squeeze(predict_result))\n",
    "print(np.argmax(np.squeeze(predict_result)))"
   ]
  },
  {
   "cell_type": "markdown",
   "metadata": {
    "id": "S3U4yNWx9hE4"
   },
   "source": [
    "# Confusion matrix"
   ]
  },
  {
   "cell_type": "code",
   "execution_count": 15,
   "metadata": {
    "colab": {
     "base_uri": "https://localhost:8080/",
     "height": 582
    },
    "id": "AP1V6SCk9hE5",
    "outputId": "08e41a80-7a4a-4619-8125-ecc371368d19"
   },
   "outputs": [
    {
     "name": "stdout",
     "output_type": "stream",
     "text": [
      "71/71 [==============================] - 0s 2ms/step\n"
     ]
    },
    {
     "data": {
      "image/png": "[encoded data removed]",
      "text/plain": [
       "<Figure size 700x600 with 2 Axes>"
      ]
     },
     "metadata": {},
     "output_type": "display_data"
    },
    {
     "name": "stdout",
     "output_type": "stream",
     "text": [
      "Classification Report\n",
      "              precision    recall  f1-score   support\n",
      "\n",
      "           0       1.00      1.00      1.00       382\n",
      "           1       1.00      1.00      1.00       361\n",
      "           2       0.98      1.00      0.99       375\n",
      "           3       1.00      1.00      1.00       376\n",
      "           4       1.00      0.98      0.99       380\n",
      "           5       1.00      1.00      1.00       376\n",
      "\n",
      "    accuracy                           1.00      2250\n",
      "   macro avg       1.00      1.00      1.00      2250\n",
      "weighted avg       1.00      1.00      1.00      2250\n",
      "\n"
     ]
    }
   ],
   "source": [
    "import pandas as pd\n",
    "import seaborn as sns\n",
    "import matplotlib.pyplot as plt\n",
    "from sklearn.metrics import confusion_matrix, classification_report\n",
    "\n",
    "def print_confusion_matrix(y_true, y_pred, report=True):\n",
    "    labels = sorted(list(set(y_true)))\n",
    "    cmx_data = confusion_matrix(y_true, y_pred, labels=labels)\n",
    "    \n",
    "    df_cmx = pd.DataFrame(cmx_data, index=labels, columns=labels)\n",
    " \n",
    "    fig, ax = plt.subplots(figsize=(7, 6))\n",
    "    sns.heatmap(df_cmx, annot=True, fmt='g' ,square=False)\n",
    "    ax.set_ylim(len(set(y_true)), 0)\n",
    "    plt.show()\n",
    "    \n",
    "    if report:\n",
    "        print('Classification Report')\n",
    "        print(classification_report(y_test, y_pred))\n",
    "\n",
    "Y_pred = model.predict(X_test)\n",
    "y_pred = np.argmax(Y_pred, axis=1)\n",
    "\n",
    "print_confusion_matrix(y_test, y_pred)"
   ]
  },
  {
   "cell_type": "markdown",
   "metadata": {
    "id": "FNP6aqzc9hE5"
   },
   "source": [
    "# Convert to model for Tensorflow-Lite"
   ]
  },
  {
   "cell_type": "code",
   "execution_count": 16,
   "metadata": {
    "id": "ODjnYyld9hE6"
   },
   "outputs": [
    {
     "name": "stderr",
     "output_type": "stream",
     "text": [
      "/Users/joeymusante/dev/hand-remote/venv/lib/python3.10/site-packages/keras/src/engine/training.py:3079: UserWarning: You are saving your model as an HDF5 file via `model.save()`. This file format is considered legacy. We recommend using instead the native Keras format, e.g. `model.save('my_model.keras')`.\n",
      "  saving_api.save_model(\n"
     ]
    }
   ],
   "source": [
    "# Save as a model dedicated to inference\n",
    "model.save(model_save_path, include_optimizer=False)"
   ]
  },
  {
   "cell_type": "code",
   "execution_count": 17,
   "metadata": {
    "colab": {
     "base_uri": "https://localhost:8080/"
    },
    "id": "zRfuK8Y59hE6",
    "outputId": "a4ca585c-b5d5-4244-8291-8674063209bb"
   },
   "outputs": [
    {
     "name": "stdout",
     "output_type": "stream",
     "text": [
      "INFO:tensorflow:Assets written to: /var/folders/9r/x_hzmzq51t15yvjk_3l8kzqh0000gn/T/tmpkeme1x6h/assets\n"
     ]
    },
    {
     "name": "stderr",
     "output_type": "stream",
     "text": [
      "INFO:tensorflow:Assets written to: /var/folders/9r/x_hzmzq51t15yvjk_3l8kzqh0000gn/T/tmpkeme1x6h/assets\n",
      "2025-09-25 14:07:49.577261: W tensorflow/compiler/mlir/lite/python/tf_tfl_flatbuffer_helpers.cc:378] Ignored output_format.\n",
      "2025-09-25 14:07:49.577271: W tensorflow/compiler/mlir/lite/python/tf_tfl_flatbuffer_helpers.cc:381] Ignored drop_control_dependency.\n"
     ]
    },
    {
     "data": {
      "text/plain": [
       "6632"
      ]
     },
     "execution_count": 17,
     "metadata": {},
     "output_type": "execute_result"
    }
   ],
   "source": [
    "# Transform model (quantization)\n",
    "\n",
    "converter = tf.lite.TFLiteConverter.from_keras_model(model)\n",
    "converter.optimizations = [tf.lite.Optimize.DEFAULT]\n",
    "tflite_quantized_model = converter.convert()\n",
    "\n",
    "open(tflite_save_path, 'wb').write(tflite_quantized_model)"
   ]
  },
  {
   "cell_type": "markdown",
   "metadata": {
    "id": "CHBPBXdx9hE6"
   },
   "source": [
    "# Inference test"
   ]
  },
  {
   "cell_type": "code",
   "execution_count": 18,
   "metadata": {
    "id": "mGAzLocO9hE7"
   },
   "outputs": [
    {
     "name": "stderr",
     "output_type": "stream",
     "text": [
      "INFO: Created TensorFlow Lite XNNPACK delegate for CPU.\n"
     ]
    }
   ],
   "source": [
    "interpreter = tf.lite.Interpreter(model_path=tflite_save_path)\n",
    "interpreter.allocate_tensors()"
   ]
  },
  {
   "cell_type": "code",
   "execution_count": 19,
   "metadata": {
    "id": "oQuDK8YS9hE7"
   },
   "outputs": [],
   "source": [
    "# Get I / O tensor\n",
    "input_details = interpreter.get_input_details()\n",
    "output_details = interpreter.get_output_details()"
   ]
  },
  {
   "cell_type": "code",
   "execution_count": 20,
   "metadata": {
    "id": "2_ixAf_l9hE7"
   },
   "outputs": [],
   "source": [
    "interpreter.set_tensor(input_details[0]['index'], np.array([X_test[0]]))"
   ]
  },
  {
   "cell_type": "code",
   "execution_count": 21,
   "metadata": {
    "colab": {
     "base_uri": "https://localhost:8080/"
    },
    "id": "s4FoAnuc9hE7",
    "outputId": "91f18257-8d8b-4ef3-c558-e9b5f94fabbf",
    "scrolled": true
   },
   "outputs": [
    {
     "name": "stdout",
     "output_type": "stream",
     "text": [
      "CPU times: user 81 μs, sys: 56 μs, total: 137 μs\n",
      "Wall time: 102 μs\n"
     ]
    }
   ],
   "source": [
    "%%time\n",
    "# Inference implementation\n",
    "interpreter.invoke()\n",
    "tflite_results = interpreter.get_tensor(output_details[0]['index'])"
   ]
  },
  {
   "cell_type": "code",
   "execution_count": 22,
   "metadata": {
    "colab": {
     "base_uri": "https://localhost:8080/"
    },
    "id": "vONjp19J9hE8",
    "outputId": "77205e24-fd00-42c4-f7b6-e06e527c2cba"
   },
   "outputs": [
    {
     "name": "stdout",
     "output_type": "stream",
     "text": [
      "[0.00291235 0.51829946 0.03274607 0.43735793 0.00638647 0.00229776]\n",
      "1\n"
     ]
    }
   ],
   "source": [
    "print(np.squeeze(tflite_results))\n",
    "print(np.argmax(np.squeeze(tflite_results)))"
   ]
  },
  {
   "cell_type": "code",
   "execution_count": 23,
   "metadata": {},
   "outputs": [
    {
     "name": "stdout",
     "output_type": "stream",
     "text": [
      "INFO:tensorflow:Assets written to: /var/folders/9r/x_hzmzq51t15yvjk_3l8kzqh0000gn/T/tmp5hkoa7b2/assets\n"
     ]
    },
    {
     "name": "stderr",
     "output_type": "stream",
     "text": [
      "INFO:tensorflow:Assets written to: /var/folders/9r/x_hzmzq51t15yvjk_3l8kzqh0000gn/T/tmp5hkoa7b2/assets\n",
      "2025-09-25 14:07:49.910396: W tensorflow/compiler/mlir/lite/python/tf_tfl_flatbuffer_helpers.cc:378] Ignored output_format.\n",
      "2025-09-25 14:07:49.910407: W tensorflow/compiler/mlir/lite/python/tf_tfl_flatbuffer_helpers.cc:381] Ignored drop_control_dependency.\n"
     ]
    }
   ],
   "source": [
    "import tensorflow as tf\n",
    "\n",
    "# Convert the trained model to TFLite\n",
    "converter = tf.lite.TFLiteConverter.from_keras_model(model)\n",
    "tflite_model = converter.convert()\n",
    "\n",
    "# Save as .tflite file (overwrite the one the app uses)\n",
    "with open(\"model/keypoint_classifier/keypoint_classifier.tflite\", \"wb\") as f:\n",
    "    f.write(tflite_model)\n"
   ]
  }
 ],
 "metadata": {
  "accelerator": "GPU",
  "colab": {
   "collapsed_sections": [],
   "name": "keypoint_classification_EN.ipynb",
   "provenance": [],
   "toc_visible": true
  },
  "kernelspec": {
   "display_name": "Python 3 (ipykernel)",
   "language": "python",
   "name": "python3"
  },
  "language_info": {
   "codemirror_mode": {
    "name": "ipython",
    "version": 3
   },
   "file_extension": ".py",
   "mimetype": "text/x-python",
   "name": "python",
   "nbconvert_exporter": "python",
   "pygments_lexer": "ipython3",
   "version": "3.10.9"
  }
 },
 "nbformat": 4,
 "nbformat_minor": 4
}
