{
 "cells": [
  {
   "cell_type": "code",
   "execution_count": 1,
   "metadata": {
    "id": "igMyGnjE9hEp"
   },
   "outputs": [],
   "source": [
    "import csv\n",
    "\n",
    "import numpy as np\n",
    "import tensorflow as tf\n",
    "from sklearn.model_selection import train_test_split\n",
    "\n",
    "RANDOM_SEED = 42"
   ]
  },
  {
   "cell_type": "markdown",
   "metadata": {
    "id": "t2HDvhIu9hEr"
   },
   "source": [
    "# Specify each path"
   ]
  },
  {
   "cell_type": "code",
   "execution_count": 2,
   "metadata": {
    "id": "9NvZP2Zn9hEy"
   },
   "outputs": [],
   "source": [
    "dataset = 'model/keypoint_classifier/keypoint.csv'\n",
    "model_save_path = 'model/keypoint_classifier/keypoint_classifier.hdf5'\n",
    "tflite_save_path = 'model/keypoint_classifier/keypoint_classifier.tflite'"
   ]
  },
  {
   "cell_type": "markdown",
   "metadata": {
    "id": "s5oMH7x19hEz"
   },
   "source": [
    "# Set number of classes"
   ]
  },
  {
   "cell_type": "code",
   "execution_count": 3,
   "metadata": {
    "id": "du4kodXL9hEz"
   },
   "outputs": [],
   "source": [
    "NUM_CLASSES = 2"
   ]
  },
  {
   "cell_type": "markdown",
   "metadata": {
    "id": "XjnL0uso9hEz"
   },
   "source": [
    "# Dataset reading"
   ]
  },
  {
   "cell_type": "code",
   "execution_count": 4,
   "metadata": {
    "id": "QT5ZqtEz9hE0"
   },
   "outputs": [],
   "source": [
    "X_dataset = np.loadtxt(dataset, delimiter=',', dtype='float32', usecols=list(range(1, (21 * 2) + 1)))"
   ]
  },
  {
   "cell_type": "code",
   "execution_count": 5,
   "metadata": {
    "id": "QmoKFsp49hE0"
   },
   "outputs": [],
   "source": [
    "y_dataset = np.loadtxt(dataset, delimiter=',', dtype='int32', usecols=(0))"
   ]
  },
  {
   "cell_type": "code",
   "execution_count": 6,
   "metadata": {
    "id": "xQU7JTZ_9hE0"
   },
   "outputs": [],
   "source": [
    "X_train, X_test, y_train, y_test = train_test_split(X_dataset, y_dataset, train_size=0.75, random_state=RANDOM_SEED)"
   ]
  },
  {
   "cell_type": "markdown",
   "metadata": {
    "id": "mxK_lETT9hE0"
   },
   "source": [
    "# Model building"
   ]
  },
  {
   "cell_type": "code",
   "execution_count": 7,
   "metadata": {
    "id": "vHBmUf1t9hE1"
   },
   "outputs": [],
   "source": [
    "model = tf.keras.models.Sequential([\n",
    "    tf.keras.layers.Input((21 * 2, )),\n",
    "    tf.keras.layers.Dropout(0.2),\n",
    "    tf.keras.layers.Dense(20, activation='relu'),\n",
    "    tf.keras.layers.Dropout(0.4),\n",
    "    tf.keras.layers.Dense(10, activation='relu'),\n",
    "    tf.keras.layers.Dense(NUM_CLASSES, activation='softmax')\n",
    "])"
   ]
  },
  {
   "cell_type": "code",
   "execution_count": 8,
   "metadata": {
    "colab": {
     "base_uri": "https://localhost:8080/"
    },
    "id": "ypqky9tc9hE1",
    "outputId": "5db082bb-30e3-4110-bf63-a1ee777ecd46"
   },
   "outputs": [
    {
     "name": "stdout",
     "output_type": "stream",
     "text": [
      "Model: \"sequential\"\n",
      "_________________________________________________________________\n",
      " Layer (type)                Output Shape              Param #   \n",
      "=================================================================\n",
      " dropout (Dropout)           (None, 42)                0         \n",
      "                                                                 \n",
      " dense (Dense)               (None, 20)                860       \n",
      "                                                                 \n",
      " dropout_1 (Dropout)         (None, 20)                0         \n",
      "                                                                 \n",
      " dense_1 (Dense)             (None, 10)                210       \n",
      "                                                                 \n",
      " dense_2 (Dense)             (None, 2)                 22        \n",
      "                                                                 \n",
      "=================================================================\n",
      "Total params: 1092 (4.27 KB)\n",
      "Trainable params: 1092 (4.27 KB)\n",
      "Non-trainable params: 0 (0.00 Byte)\n",
      "_________________________________________________________________\n"
     ]
    }
   ],
   "source": [
    "model.summary()  # tf.keras.utils.plot_model(model, show_shapes=True)"
   ]
  },
  {
   "cell_type": "code",
   "execution_count": 9,
   "metadata": {
    "id": "MbMjOflQ9hE1"
   },
   "outputs": [],
   "source": [
    "# Model checkpoint callback\n",
    "cp_callback = tf.keras.callbacks.ModelCheckpoint(\n",
    "    model_save_path, verbose=1, save_weights_only=False)\n",
    "# Callback for early stopping\n",
    "es_callback = tf.keras.callbacks.EarlyStopping(patience=20, verbose=1)"
   ]
  },
  {
   "cell_type": "code",
   "execution_count": 10,
   "metadata": {
    "id": "c3Dac0M_9hE2"
   },
   "outputs": [],
   "source": [
    "# Model compilation\n",
    "model.compile(\n",
    "    optimizer='adam',\n",
    "    loss='sparse_categorical_crossentropy',\n",
    "    metrics=['accuracy']\n",
    ")"
   ]
  },
  {
   "cell_type": "markdown",
   "metadata": {
    "id": "7XI0j1Iu9hE2"
   },
   "source": [
    "# Model training"
   ]
  },
  {
   "cell_type": "code",
   "execution_count": 11,
   "metadata": {
    "colab": {
     "base_uri": "https://localhost:8080/"
    },
    "id": "WirBl-JE9hE3",
    "outputId": "71b30ca2-8294-4d9d-8aa2-800d90d399de",
    "scrolled": true
   },
   "outputs": [
    {
     "name": "stdout",
     "output_type": "stream",
     "text": [
      "Epoch 1/1000\n",
      "19/19 [==============================] - ETA: 0s - loss: 0.7768 - accuracy: 0.5586\n",
      "Epoch 1: saving model to model/keypoint_classifier/keypoint_classifier.hdf5\n",
      "19/19 [==============================] - 0s 14ms/step - loss: 0.7768 - accuracy: 0.5586 - val_loss: 0.6262 - val_accuracy: 0.6395\n",
      "Epoch 2/1000\n",
      "14/19 [=====================>........] - ETA: 0s - loss: 0.7029 - accuracy: 0.5971\n",
      "Epoch 2: saving model to model/keypoint_classifier/keypoint_classifier.hdf5\n",
      "19/19 [==============================] - 0s 6ms/step - loss: 0.7085 - accuracy: 0.5931 - val_loss: 0.5896 - val_accuracy: 0.7817\n",
      "Epoch 3/1000\n",
      "14/19 [=====================>........] - ETA: 0s - loss: 0.6610 - accuracy: 0.6127"
     ]
    },
    {
     "name": "stderr",
     "output_type": "stream",
     "text": [
      "/Users/joeymusante/dev/hand-remote/venv/lib/python3.10/site-packages/keras/src/engine/training.py:3079: UserWarning: You are saving your model as an HDF5 file via `model.save()`. This file format is considered legacy. We recommend using instead the native Keras format, e.g. `model.save('my_model.keras')`.\n",
      "  saving_api.save_model(\n"
     ]
    },
    {
     "name": "stdout",
     "output_type": "stream",
     "text": [
      "\n",
      "Epoch 3: saving model to model/keypoint_classifier/keypoint_classifier.hdf5\n",
      "19/19 [==============================] - 0s 6ms/step - loss: 0.6559 - accuracy: 0.6190 - val_loss: 0.5643 - val_accuracy: 0.8372\n",
      "Epoch 4/1000\n",
      "15/19 [======================>.......] - ETA: 0s - loss: 0.6280 - accuracy: 0.6438\n",
      "Epoch 4: saving model to model/keypoint_classifier/keypoint_classifier.hdf5\n",
      "19/19 [==============================] - 0s 6ms/step - loss: 0.6245 - accuracy: 0.6474 - val_loss: 0.5435 - val_accuracy: 0.8488\n",
      "Epoch 5/1000\n",
      "15/19 [======================>.......] - ETA: 0s - loss: 0.6044 - accuracy: 0.6604\n",
      "Epoch 5: saving model to model/keypoint_classifier/keypoint_classifier.hdf5\n",
      "19/19 [==============================] - 0s 6ms/step - loss: 0.6032 - accuracy: 0.6625 - val_loss: 0.5253 - val_accuracy: 0.8256\n",
      "Epoch 6/1000\n",
      "14/19 [=====================>........] - ETA: 0s - loss: 0.5933 - accuracy: 0.6680\n",
      "Epoch 6: saving model to model/keypoint_classifier/keypoint_classifier.hdf5\n",
      "19/19 [==============================] - 0s 6ms/step - loss: 0.5907 - accuracy: 0.6728 - val_loss: 0.5126 - val_accuracy: 0.8346\n",
      "Epoch 7/1000\n",
      "14/19 [=====================>........] - ETA: 0s - loss: 0.5599 - accuracy: 0.7015\n",
      "Epoch 7: saving model to model/keypoint_classifier/keypoint_classifier.hdf5\n",
      "19/19 [==============================] - 0s 6ms/step - loss: 0.5687 - accuracy: 0.6897 - val_loss: 0.4951 - val_accuracy: 0.8127\n",
      "Epoch 8/1000\n",
      "14/19 [=====================>........] - ETA: 0s - loss: 0.5397 - accuracy: 0.7193\n",
      "Epoch 8: saving model to model/keypoint_classifier/keypoint_classifier.hdf5\n",
      "19/19 [==============================] - 0s 6ms/step - loss: 0.5413 - accuracy: 0.7172 - val_loss: 0.4793 - val_accuracy: 0.8101\n",
      "Epoch 9/1000\n",
      "15/19 [======================>.......] - ETA: 0s - loss: 0.5571 - accuracy: 0.7047\n",
      "Epoch 9: saving model to model/keypoint_classifier/keypoint_classifier.hdf5\n",
      "19/19 [==============================] - 0s 6ms/step - loss: 0.5535 - accuracy: 0.7099 - val_loss: 0.4700 - val_accuracy: 0.8036\n",
      "Epoch 10/1000\n",
      "14/19 [=====================>........] - ETA: 0s - loss: 0.5510 - accuracy: 0.7070\n",
      "Epoch 10: saving model to model/keypoint_classifier/keypoint_classifier.hdf5\n",
      "19/19 [==============================] - 0s 6ms/step - loss: 0.5393 - accuracy: 0.7185 - val_loss: 0.4590 - val_accuracy: 0.8075\n",
      "Epoch 11/1000\n",
      "14/19 [=====================>........] - ETA: 0s - loss: 0.5390 - accuracy: 0.7338\n",
      "Epoch 11: saving model to model/keypoint_classifier/keypoint_classifier.hdf5\n",
      "19/19 [==============================] - 0s 6ms/step - loss: 0.5410 - accuracy: 0.7358 - val_loss: 0.4491 - val_accuracy: 0.8204\n",
      "Epoch 12/1000\n",
      "14/19 [=====================>........] - ETA: 0s - loss: 0.5377 - accuracy: 0.7215\n",
      "Epoch 12: saving model to model/keypoint_classifier/keypoint_classifier.hdf5\n",
      "19/19 [==============================] - 0s 6ms/step - loss: 0.5366 - accuracy: 0.7276 - val_loss: 0.4454 - val_accuracy: 0.8165\n",
      "Epoch 13/1000\n",
      "14/19 [=====================>........] - ETA: 0s - loss: 0.5276 - accuracy: 0.7444\n",
      "Epoch 13: saving model to model/keypoint_classifier/keypoint_classifier.hdf5\n",
      "19/19 [==============================] - 0s 6ms/step - loss: 0.5160 - accuracy: 0.7466 - val_loss: 0.4411 - val_accuracy: 0.8282\n",
      "Epoch 14/1000\n",
      "14/19 [=====================>........] - ETA: 0s - loss: 0.5313 - accuracy: 0.7355\n",
      "Epoch 14: saving model to model/keypoint_classifier/keypoint_classifier.hdf5\n",
      "19/19 [==============================] - 0s 6ms/step - loss: 0.5338 - accuracy: 0.7397 - val_loss: 0.4378 - val_accuracy: 0.8217\n",
      "Epoch 15/1000\n",
      "15/19 [======================>.......] - ETA: 0s - loss: 0.5148 - accuracy: 0.7417\n",
      "Epoch 15: saving model to model/keypoint_classifier/keypoint_classifier.hdf5\n",
      "19/19 [==============================] - 0s 6ms/step - loss: 0.5091 - accuracy: 0.7461 - val_loss: 0.4349 - val_accuracy: 0.8295\n",
      "Epoch 16/1000\n",
      "14/19 [=====================>........] - ETA: 0s - loss: 0.5187 - accuracy: 0.7416\n",
      "Epoch 16: saving model to model/keypoint_classifier/keypoint_classifier.hdf5\n",
      "19/19 [==============================] - 0s 6ms/step - loss: 0.5173 - accuracy: 0.7405 - val_loss: 0.4333 - val_accuracy: 0.8269\n",
      "Epoch 17/1000\n",
      "14/19 [=====================>........] - ETA: 0s - loss: 0.5201 - accuracy: 0.7506\n",
      "Epoch 17: saving model to model/keypoint_classifier/keypoint_classifier.hdf5\n",
      "19/19 [==============================] - 0s 6ms/step - loss: 0.5240 - accuracy: 0.7448 - val_loss: 0.4306 - val_accuracy: 0.8398\n",
      "Epoch 18/1000\n",
      "14/19 [=====================>........] - ETA: 0s - loss: 0.4979 - accuracy: 0.7634\n",
      "Epoch 18: saving model to model/keypoint_classifier/keypoint_classifier.hdf5\n",
      "19/19 [==============================] - 0s 6ms/step - loss: 0.4996 - accuracy: 0.7642 - val_loss: 0.4297 - val_accuracy: 0.8204\n",
      "Epoch 19/1000\n",
      "15/19 [======================>.......] - ETA: 0s - loss: 0.5051 - accuracy: 0.7651\n",
      "Epoch 19: saving model to model/keypoint_classifier/keypoint_classifier.hdf5\n",
      "19/19 [==============================] - 0s 6ms/step - loss: 0.5009 - accuracy: 0.7703 - val_loss: 0.4266 - val_accuracy: 0.8114\n",
      "Epoch 20/1000\n",
      "14/19 [=====================>........] - ETA: 0s - loss: 0.5224 - accuracy: 0.7522\n",
      "Epoch 20: saving model to model/keypoint_classifier/keypoint_classifier.hdf5\n",
      "19/19 [==============================] - 0s 6ms/step - loss: 0.5169 - accuracy: 0.7591 - val_loss: 0.4199 - val_accuracy: 0.8359\n",
      "Epoch 21/1000\n",
      "14/19 [=====================>........] - ETA: 0s - loss: 0.5188 - accuracy: 0.7612\n",
      "Epoch 21: saving model to model/keypoint_classifier/keypoint_classifier.hdf5\n",
      "19/19 [==============================] - 0s 6ms/step - loss: 0.5204 - accuracy: 0.7616 - val_loss: 0.4186 - val_accuracy: 0.8424\n",
      "Epoch 22/1000\n",
      "14/19 [=====================>........] - ETA: 0s - loss: 0.5014 - accuracy: 0.7656\n",
      "Epoch 22: saving model to model/keypoint_classifier/keypoint_classifier.hdf5\n",
      "19/19 [==============================] - 0s 6ms/step - loss: 0.4982 - accuracy: 0.7690 - val_loss: 0.4188 - val_accuracy: 0.8307\n",
      "Epoch 23/1000\n",
      "14/19 [=====================>........] - ETA: 0s - loss: 0.5059 - accuracy: 0.7539\n",
      "Epoch 23: saving model to model/keypoint_classifier/keypoint_classifier.hdf5\n",
      "19/19 [==============================] - 0s 6ms/step - loss: 0.5067 - accuracy: 0.7573 - val_loss: 0.4169 - val_accuracy: 0.8411\n",
      "Epoch 24/1000\n",
      "14/19 [=====================>........] - ETA: 0s - loss: 0.5041 - accuracy: 0.7712\n",
      "Epoch 24: saving model to model/keypoint_classifier/keypoint_classifier.hdf5\n",
      "19/19 [==============================] - 0s 6ms/step - loss: 0.5063 - accuracy: 0.7685 - val_loss: 0.4199 - val_accuracy: 0.8527\n",
      "Epoch 25/1000\n",
      "14/19 [=====================>........] - ETA: 0s - loss: 0.5193 - accuracy: 0.7483\n",
      "Epoch 25: saving model to model/keypoint_classifier/keypoint_classifier.hdf5\n",
      "19/19 [==============================] - 0s 6ms/step - loss: 0.5159 - accuracy: 0.7539 - val_loss: 0.4198 - val_accuracy: 0.8437\n",
      "Epoch 26/1000\n",
      "14/19 [=====================>........] - ETA: 0s - loss: 0.5073 - accuracy: 0.7662\n",
      "Epoch 26: saving model to model/keypoint_classifier/keypoint_classifier.hdf5\n",
      "19/19 [==============================] - 0s 6ms/step - loss: 0.5134 - accuracy: 0.7621 - val_loss: 0.4250 - val_accuracy: 0.8269\n",
      "Epoch 27/1000\n",
      "15/19 [======================>.......] - ETA: 0s - loss: 0.5034 - accuracy: 0.7708\n",
      "Epoch 27: saving model to model/keypoint_classifier/keypoint_classifier.hdf5\n",
      "19/19 [==============================] - 0s 6ms/step - loss: 0.5109 - accuracy: 0.7677 - val_loss: 0.4174 - val_accuracy: 0.8320\n",
      "Epoch 28/1000\n",
      "14/19 [=====================>........] - ETA: 0s - loss: 0.5012 - accuracy: 0.7679\n",
      "Epoch 28: saving model to model/keypoint_classifier/keypoint_classifier.hdf5\n",
      "19/19 [==============================] - 0s 6ms/step - loss: 0.5059 - accuracy: 0.7655 - val_loss: 0.4169 - val_accuracy: 0.8411\n",
      "Epoch 29/1000\n",
      "15/19 [======================>.......] - ETA: 0s - loss: 0.5171 - accuracy: 0.7625\n",
      "Epoch 29: saving model to model/keypoint_classifier/keypoint_classifier.hdf5\n",
      "19/19 [==============================] - 0s 6ms/step - loss: 0.5100 - accuracy: 0.7668 - val_loss: 0.4235 - val_accuracy: 0.8566\n",
      "Epoch 30/1000\n",
      "14/19 [=====================>........] - ETA: 0s - loss: 0.5159 - accuracy: 0.7600\n",
      "Epoch 30: saving model to model/keypoint_classifier/keypoint_classifier.hdf5\n",
      "19/19 [==============================] - 0s 6ms/step - loss: 0.5127 - accuracy: 0.7612 - val_loss: 0.4249 - val_accuracy: 0.8217\n",
      "Epoch 31/1000\n",
      "14/19 [=====================>........] - ETA: 0s - loss: 0.4980 - accuracy: 0.7695\n",
      "Epoch 31: saving model to model/keypoint_classifier/keypoint_classifier.hdf5\n",
      "19/19 [==============================] - 0s 6ms/step - loss: 0.5079 - accuracy: 0.7642 - val_loss: 0.4210 - val_accuracy: 0.8398\n",
      "Epoch 32/1000\n",
      "15/19 [======================>.......] - ETA: 0s - loss: 0.5091 - accuracy: 0.7630\n",
      "Epoch 32: saving model to model/keypoint_classifier/keypoint_classifier.hdf5\n",
      "19/19 [==============================] - 0s 6ms/step - loss: 0.5048 - accuracy: 0.7690 - val_loss: 0.4216 - val_accuracy: 0.8527\n",
      "Epoch 33/1000\n",
      "14/19 [=====================>........] - ETA: 0s - loss: 0.5264 - accuracy: 0.7589\n",
      "Epoch 33: saving model to model/keypoint_classifier/keypoint_classifier.hdf5\n",
      "19/19 [==============================] - 0s 6ms/step - loss: 0.5251 - accuracy: 0.7599 - val_loss: 0.4206 - val_accuracy: 0.8398\n",
      "Epoch 34/1000\n",
      "14/19 [=====================>........] - ETA: 0s - loss: 0.5243 - accuracy: 0.7600\n",
      "Epoch 34: saving model to model/keypoint_classifier/keypoint_classifier.hdf5\n",
      "19/19 [==============================] - 0s 6ms/step - loss: 0.5116 - accuracy: 0.7685 - val_loss: 0.4236 - val_accuracy: 0.8269\n",
      "Epoch 35/1000\n",
      "15/19 [======================>.......] - ETA: 0s - loss: 0.5195 - accuracy: 0.7573\n",
      "Epoch 35: saving model to model/keypoint_classifier/keypoint_classifier.hdf5\n",
      "19/19 [==============================] - 0s 6ms/step - loss: 0.5227 - accuracy: 0.7556 - val_loss: 0.4227 - val_accuracy: 0.8424\n",
      "Epoch 36/1000\n",
      "15/19 [======================>.......] - ETA: 0s - loss: 0.5377 - accuracy: 0.7458\n",
      "Epoch 36: saving model to model/keypoint_classifier/keypoint_classifier.hdf5\n",
      "19/19 [==============================] - 0s 6ms/step - loss: 0.5338 - accuracy: 0.7474 - val_loss: 0.4223 - val_accuracy: 0.8372\n",
      "Epoch 37/1000\n",
      "14/19 [=====================>........] - ETA: 0s - loss: 0.5150 - accuracy: 0.7656\n",
      "Epoch 37: saving model to model/keypoint_classifier/keypoint_classifier.hdf5\n",
      "19/19 [==============================] - 0s 6ms/step - loss: 0.5255 - accuracy: 0.7599 - val_loss: 0.4291 - val_accuracy: 0.8553\n",
      "Epoch 38/1000\n",
      "14/19 [=====================>........] - ETA: 0s - loss: 0.4930 - accuracy: 0.7812\n",
      "Epoch 38: saving model to model/keypoint_classifier/keypoint_classifier.hdf5\n",
      "19/19 [==============================] - 0s 6ms/step - loss: 0.5053 - accuracy: 0.7737 - val_loss: 0.4344 - val_accuracy: 0.8463\n",
      "Epoch 39/1000\n",
      "15/19 [======================>.......] - ETA: 0s - loss: 0.5105 - accuracy: 0.7641\n",
      "Epoch 39: saving model to model/keypoint_classifier/keypoint_classifier.hdf5\n",
      "19/19 [==============================] - 0s 6ms/step - loss: 0.5067 - accuracy: 0.7655 - val_loss: 0.4253 - val_accuracy: 0.8333\n",
      "Epoch 40/1000\n",
      "15/19 [======================>.......] - ETA: 0s - loss: 0.5252 - accuracy: 0.7557\n",
      "Epoch 40: saving model to model/keypoint_classifier/keypoint_classifier.hdf5\n",
      "19/19 [==============================] - 0s 6ms/step - loss: 0.5173 - accuracy: 0.7621 - val_loss: 0.4313 - val_accuracy: 0.8579\n",
      "Epoch 41/1000\n",
      "15/19 [======================>.......] - ETA: 0s - loss: 0.5159 - accuracy: 0.7630\n",
      "Epoch 41: saving model to model/keypoint_classifier/keypoint_classifier.hdf5\n",
      "19/19 [==============================] - 0s 6ms/step - loss: 0.5195 - accuracy: 0.7621 - val_loss: 0.4296 - val_accuracy: 0.8191\n",
      "Epoch 42/1000\n",
      "14/19 [=====================>........] - ETA: 0s - loss: 0.5326 - accuracy: 0.7573\n",
      "Epoch 42: saving model to model/keypoint_classifier/keypoint_classifier.hdf5\n",
      "19/19 [==============================] - 0s 6ms/step - loss: 0.5245 - accuracy: 0.7638 - val_loss: 0.4268 - val_accuracy: 0.8411\n",
      "Epoch 43/1000\n",
      "15/19 [======================>.......] - ETA: 0s - loss: 0.5214 - accuracy: 0.7589\n",
      "Epoch 43: saving model to model/keypoint_classifier/keypoint_classifier.hdf5\n",
      "19/19 [==============================] - 0s 6ms/step - loss: 0.5146 - accuracy: 0.7651 - val_loss: 0.4276 - val_accuracy: 0.8463\n",
      "Epoch 43: early stopping\n"
     ]
    },
    {
     "data": {
      "text/plain": [
       "<keras.src.callbacks.History at 0x1698f76d0>"
      ]
     },
     "execution_count": 11,
     "metadata": {},
     "output_type": "execute_result"
    }
   ],
   "source": [
    "model.fit(\n",
    "    X_train,\n",
    "    y_train,\n",
    "    epochs=1000,\n",
    "    batch_size=128,\n",
    "    validation_data=(X_test, y_test),\n",
    "    callbacks=[cp_callback, es_callback]\n",
    ")"
   ]
  },
  {
   "cell_type": "code",
   "execution_count": 12,
   "metadata": {
    "colab": {
     "base_uri": "https://localhost:8080/"
    },
    "id": "pxvb2Y299hE3",
    "outputId": "59eb3185-2e37-4b9e-bc9d-ab1b8ac29b7f"
   },
   "outputs": [
    {
     "name": "stdout",
     "output_type": "stream",
     "text": [
      "7/7 [==============================] - 0s 3ms/step - loss: 0.4276 - accuracy: 0.8463\n"
     ]
    }
   ],
   "source": [
    "# Model evaluation\n",
    "val_loss, val_acc = model.evaluate(X_test, y_test, batch_size=128)"
   ]
  },
  {
   "cell_type": "code",
   "execution_count": 13,
   "metadata": {
    "id": "RBkmDeUW9hE4"
   },
   "outputs": [],
   "source": [
    "# Loading the saved model\n",
    "model = tf.keras.models.load_model(model_save_path)"
   ]
  },
  {
   "cell_type": "code",
   "execution_count": 14,
   "metadata": {
    "colab": {
     "base_uri": "https://localhost:8080/"
    },
    "id": "tFz9Tb0I9hE4",
    "outputId": "1c3b3528-54ae-4ee2-ab04-77429211cbef"
   },
   "outputs": [
    {
     "name": "stdout",
     "output_type": "stream",
     "text": [
      "1/1 [==============================] - 0s 36ms/step\n",
      "[0.23754925 0.76245075]\n",
      "1\n"
     ]
    }
   ],
   "source": [
    "# Inference test\n",
    "predict_result = model.predict(np.array([X_test[0]]))\n",
    "print(np.squeeze(predict_result))\n",
    "print(np.argmax(np.squeeze(predict_result)))"
   ]
  },
  {
   "cell_type": "markdown",
   "metadata": {
    "id": "S3U4yNWx9hE4"
   },
   "source": [
    "# Confusion matrix"
   ]
  },
  {
   "cell_type": "code",
   "execution_count": 15,
   "metadata": {
    "colab": {
     "base_uri": "https://localhost:8080/",
     "height": 582
    },
    "id": "AP1V6SCk9hE5",
    "outputId": "08e41a80-7a4a-4619-8125-ecc371368d19"
   },
   "outputs": [
    {
     "name": "stdout",
     "output_type": "stream",
     "text": [
      "25/25 [==============================] - 0s 1ms/step\n"
     ]
    },
    {
     "data": {
      "image/png": "[encoded data removed]",
      "text/plain": [
       "<Figure size 700x600 with 2 Axes>"
      ]
     },
     "metadata": {},
     "output_type": "display_data"
    },
    {
     "name": "stdout",
     "output_type": "stream",
     "text": [
      "Classification Report\n",
      "              precision    recall  f1-score   support\n",
      "\n",
      "           0       0.82      0.90      0.86       395\n",
      "           1       0.88      0.79      0.83       379\n",
      "\n",
      "    accuracy                           0.85       774\n",
      "   macro avg       0.85      0.85      0.85       774\n",
      "weighted avg       0.85      0.85      0.85       774\n",
      "\n"
     ]
    }
   ],
   "source": [
    "import pandas as pd\n",
    "import seaborn as sns\n",
    "import matplotlib.pyplot as plt\n",
    "from sklearn.metrics import confusion_matrix, classification_report\n",
    "\n",
    "def print_confusion_matrix(y_true, y_pred, report=True):\n",
    "    labels = sorted(list(set(y_true)))\n",
    "    cmx_data = confusion_matrix(y_true, y_pred, labels=labels)\n",
    "    \n",
    "    df_cmx = pd.DataFrame(cmx_data, index=labels, columns=labels)\n",
    " \n",
    "    fig, ax = plt.subplots(figsize=(7, 6))\n",
    "    sns.heatmap(df_cmx, annot=True, fmt='g' ,square=False)\n",
    "    ax.set_ylim(len(set(y_true)), 0)\n",
    "    plt.show()\n",
    "    \n",
    "    if report:\n",
    "        print('Classification Report')\n",
    "        print(classification_report(y_test, y_pred))\n",
    "\n",
    "Y_pred = model.predict(X_test)\n",
    "y_pred = np.argmax(Y_pred, axis=1)\n",
    "\n",
    "print_confusion_matrix(y_test, y_pred)"
   ]
  },
  {
   "cell_type": "markdown",
   "metadata": {
    "id": "FNP6aqzc9hE5"
   },
   "source": [
    "# Convert to model for Tensorflow-Lite"
   ]
  },
  {
   "cell_type": "code",
   "execution_count": 16,
   "metadata": {
    "id": "ODjnYyld9hE6"
   },
   "outputs": [
    {
     "name": "stderr",
     "output_type": "stream",
     "text": [
      "/Users/joeymusante/dev/hand-remote/venv/lib/python3.10/site-packages/keras/src/engine/training.py:3079: UserWarning: You are saving your model as an HDF5 file via `model.save()`. This file format is considered legacy. We recommend using instead the native Keras format, e.g. `model.save('my_model.keras')`.\n",
      "  saving_api.save_model(\n"
     ]
    }
   ],
   "source": [
    "# Save as a model dedicated to inference\n",
    "model.save(model_save_path, include_optimizer=False)"
   ]
  },
  {
   "cell_type": "code",
   "execution_count": 17,
   "metadata": {
    "colab": {
     "base_uri": "https://localhost:8080/"
    },
    "id": "zRfuK8Y59hE6",
    "outputId": "a4ca585c-b5d5-4244-8291-8674063209bb"
   },
   "outputs": [
    {
     "name": "stdout",
     "output_type": "stream",
     "text": [
      "INFO:tensorflow:Assets written to: /var/folders/9r/x_hzmzq51t15yvjk_3l8kzqh0000gn/T/tmpdfkq6wid/assets\n"
     ]
    },
    {
     "name": "stderr",
     "output_type": "stream",
     "text": [
      "INFO:tensorflow:Assets written to: /var/folders/9r/x_hzmzq51t15yvjk_3l8kzqh0000gn/T/tmpdfkq6wid/assets\n",
      "2025-09-24 12:40:24.642174: W tensorflow/compiler/mlir/lite/python/tf_tfl_flatbuffer_helpers.cc:378] Ignored output_format.\n",
      "2025-09-24 12:40:24.642184: W tensorflow/compiler/mlir/lite/python/tf_tfl_flatbuffer_helpers.cc:381] Ignored drop_control_dependency.\n"
     ]
    },
    {
     "data": {
      "text/plain": [
       "6456"
      ]
     },
     "execution_count": 17,
     "metadata": {},
     "output_type": "execute_result"
    }
   ],
   "source": [
    "# Transform model (quantization)\n",
    "\n",
    "converter = tf.lite.TFLiteConverter.from_keras_model(model)\n",
    "converter.optimizations = [tf.lite.Optimize.DEFAULT]\n",
    "tflite_quantized_model = converter.convert()\n",
    "\n",
    "open(tflite_save_path, 'wb').write(tflite_quantized_model)"
   ]
  },
  {
   "cell_type": "markdown",
   "metadata": {
    "id": "CHBPBXdx9hE6"
   },
   "source": [
    "# Inference test"
   ]
  },
  {
   "cell_type": "code",
   "execution_count": 18,
   "metadata": {
    "id": "mGAzLocO9hE7"
   },
   "outputs": [
    {
     "name": "stderr",
     "output_type": "stream",
     "text": [
      "INFO: Created TensorFlow Lite XNNPACK delegate for CPU.\n"
     ]
    }
   ],
   "source": [
    "interpreter = tf.lite.Interpreter(model_path=tflite_save_path)\n",
    "interpreter.allocate_tensors()"
   ]
  },
  {
   "cell_type": "code",
   "execution_count": 19,
   "metadata": {
    "id": "oQuDK8YS9hE7"
   },
   "outputs": [],
   "source": [
    "# Get I / O tensor\n",
    "input_details = interpreter.get_input_details()\n",
    "output_details = interpreter.get_output_details()"
   ]
  },
  {
   "cell_type": "code",
   "execution_count": 20,
   "metadata": {
    "id": "2_ixAf_l9hE7"
   },
   "outputs": [],
   "source": [
    "interpreter.set_tensor(input_details[0]['index'], np.array([X_test[0]]))"
   ]
  },
  {
   "cell_type": "code",
   "execution_count": 21,
   "metadata": {
    "colab": {
     "base_uri": "https://localhost:8080/"
    },
    "id": "s4FoAnuc9hE7",
    "outputId": "91f18257-8d8b-4ef3-c558-e9b5f94fabbf",
    "scrolled": true
   },
   "outputs": [
    {
     "name": "stdout",
     "output_type": "stream",
     "text": [
      "CPU times: user 52 μs, sys: 34 μs, total: 86 μs\n",
      "Wall time: 71.3 μs\n"
     ]
    }
   ],
   "source": [
    "%%time\n",
    "# Inference implementation\n",
    "interpreter.invoke()\n",
    "tflite_results = interpreter.get_tensor(output_details[0]['index'])"
   ]
  },
  {
   "cell_type": "code",
   "execution_count": 22,
   "metadata": {
    "colab": {
     "base_uri": "https://localhost:8080/"
    },
    "id": "vONjp19J9hE8",
    "outputId": "77205e24-fd00-42c4-f7b6-e06e527c2cba"
   },
   "outputs": [
    {
     "name": "stdout",
     "output_type": "stream",
     "text": [
      "[0.00617433 0.9938257 ]\n",
      "1\n"
     ]
    }
   ],
   "source": [
    "print(np.squeeze(tflite_results))\n",
    "print(np.argmax(np.squeeze(tflite_results)))"
   ]
  },
  {
   "cell_type": "code",
   "execution_count": 23,
   "metadata": {},
   "outputs": [
    {
     "name": "stdout",
     "output_type": "stream",
     "text": [
      "INFO:tensorflow:Assets written to: /var/folders/9r/x_hzmzq51t15yvjk_3l8kzqh0000gn/T/tmpp1k9rzxf/assets\n"
     ]
    },
    {
     "name": "stderr",
     "output_type": "stream",
     "text": [
      "INFO:tensorflow:Assets written to: /var/folders/9r/x_hzmzq51t15yvjk_3l8kzqh0000gn/T/tmpp1k9rzxf/assets\n",
      "2025-09-24 12:40:24.973706: W tensorflow/compiler/mlir/lite/python/tf_tfl_flatbuffer_helpers.cc:378] Ignored output_format.\n",
      "2025-09-24 12:40:24.973716: W tensorflow/compiler/mlir/lite/python/tf_tfl_flatbuffer_helpers.cc:381] Ignored drop_control_dependency.\n"
     ]
    }
   ],
   "source": [
    "import tensorflow as tf\n",
    "\n",
    "# Convert the trained model to TFLite\n",
    "converter = tf.lite.TFLiteConverter.from_keras_model(model)\n",
    "tflite_model = converter.convert()\n",
    "\n",
    "# Save as .tflite file (overwrite the one the app uses)\n",
    "with open(\"model/keypoint_classifier/keypoint_classifier.tflite\", \"wb\") as f:\n",
    "    f.write(tflite_model)\n"
   ]
  }
 ],
 "metadata": {
  "accelerator": "GPU",
  "colab": {
   "collapsed_sections": [],
   "name": "keypoint_classification_EN.ipynb",
   "provenance": [],
   "toc_visible": true
  },
  "kernelspec": {
   "display_name": "Python 3 (ipykernel)",
   "language": "python",
   "name": "python3"
  },
  "language_info": {
   "codemirror_mode": {
    "name": "ipython",
    "version": 3
   },
   "file_extension": ".py",
   "mimetype": "text/x-python",
   "name": "python",
   "nbconvert_exporter": "python",
   "pygments_lexer": "ipython3",
   "version": "3.10.9"
  }
 },
 "nbformat": 4,
 "nbformat_minor": 4
}
