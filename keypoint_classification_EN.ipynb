{
 "cells": [
  {
   "cell_type": "code",
   "execution_count": 1,
   "metadata": {
    "id": "igMyGnjE9hEp"
   },
   "outputs": [],
   "source": [
    "import csv\n",
    "\n",
    "import numpy as np\n",
    "import tensorflow as tf\n",
    "from sklearn.model_selection import train_test_split\n",
    "\n",
    "RANDOM_SEED = 42"
   ]
  },
  {
   "cell_type": "markdown",
   "metadata": {
    "id": "t2HDvhIu9hEr"
   },
   "source": [
    "# Specify each path"
   ]
  },
  {
   "cell_type": "code",
   "execution_count": 2,
   "metadata": {
    "id": "9NvZP2Zn9hEy"
   },
   "outputs": [],
   "source": [
    "dataset = 'model/keypoint_classifier/keypoint.csv'\n",
    "model_save_path = 'model/keypoint_classifier/keypoint_classifier.hdf5'\n",
    "tflite_save_path = 'model/keypoint_classifier/keypoint_classifier.tflite'"
   ]
  },
  {
   "cell_type": "markdown",
   "metadata": {
    "id": "s5oMH7x19hEz"
   },
   "source": [
    "# Set number of classes"
   ]
  },
  {
   "cell_type": "code",
   "execution_count": 3,
   "metadata": {
    "id": "du4kodXL9hEz"
   },
   "outputs": [],
   "source": [
    "NUM_CLASSES = 3"
   ]
  },
  {
   "cell_type": "markdown",
   "metadata": {
    "id": "XjnL0uso9hEz"
   },
   "source": [
    "# Dataset reading"
   ]
  },
  {
   "cell_type": "code",
   "execution_count": 4,
   "metadata": {
    "id": "QT5ZqtEz9hE0"
   },
   "outputs": [],
   "source": [
    "X_dataset = np.loadtxt(dataset, delimiter=',', dtype='float32', usecols=list(range(1, (21 * 2) + 1)))"
   ]
  },
  {
   "cell_type": "code",
   "execution_count": 5,
   "metadata": {
    "id": "QmoKFsp49hE0"
   },
   "outputs": [],
   "source": [
    "y_dataset = np.loadtxt(dataset, delimiter=',', dtype='int32', usecols=(0))"
   ]
  },
  {
   "cell_type": "code",
   "execution_count": 6,
   "metadata": {
    "id": "xQU7JTZ_9hE0"
   },
   "outputs": [],
   "source": [
    "X_train, X_test, y_train, y_test = train_test_split(X_dataset, y_dataset, train_size=0.75, random_state=RANDOM_SEED)"
   ]
  },
  {
   "cell_type": "markdown",
   "metadata": {
    "id": "mxK_lETT9hE0"
   },
   "source": [
    "# Model building"
   ]
  },
  {
   "cell_type": "code",
   "execution_count": 7,
   "metadata": {
    "id": "vHBmUf1t9hE1"
   },
   "outputs": [],
   "source": [
    "model = tf.keras.models.Sequential([\n",
    "    tf.keras.layers.Input((21 * 2, )),\n",
    "    tf.keras.layers.Dropout(0.2),\n",
    "    tf.keras.layers.Dense(20, activation='relu'),\n",
    "    tf.keras.layers.Dropout(0.4),\n",
    "    tf.keras.layers.Dense(10, activation='relu'),\n",
    "    tf.keras.layers.Dense(NUM_CLASSES, activation='softmax')\n",
    "])"
   ]
  },
  {
   "cell_type": "code",
   "execution_count": 8,
   "metadata": {
    "colab": {
     "base_uri": "https://localhost:8080/"
    },
    "id": "ypqky9tc9hE1",
    "outputId": "5db082bb-30e3-4110-bf63-a1ee777ecd46"
   },
   "outputs": [
    {
     "name": "stdout",
     "output_type": "stream",
     "text": [
      "Model: \"sequential\"\n",
      "_________________________________________________________________\n",
      " Layer (type)                Output Shape              Param #   \n",
      "=================================================================\n",
      " dropout (Dropout)           (None, 42)                0         \n",
      "                                                                 \n",
      " dense (Dense)               (None, 20)                860       \n",
      "                                                                 \n",
      " dropout_1 (Dropout)         (None, 20)                0         \n",
      "                                                                 \n",
      " dense_1 (Dense)             (None, 10)                210       \n",
      "                                                                 \n",
      " dense_2 (Dense)             (None, 3)                 33        \n",
      "                                                                 \n",
      "=================================================================\n",
      "Total params: 1103 (4.31 KB)\n",
      "Trainable params: 1103 (4.31 KB)\n",
      "Non-trainable params: 0 (0.00 Byte)\n",
      "_________________________________________________________________\n"
     ]
    }
   ],
   "source": [
    "model.summary()  # tf.keras.utils.plot_model(model, show_shapes=True)"
   ]
  },
  {
   "cell_type": "code",
   "execution_count": 9,
   "metadata": {
    "id": "MbMjOflQ9hE1"
   },
   "outputs": [],
   "source": [
    "# Model checkpoint callback\n",
    "cp_callback = tf.keras.callbacks.ModelCheckpoint(\n",
    "    model_save_path, verbose=1, save_weights_only=False)\n",
    "# Callback for early stopping\n",
    "es_callback = tf.keras.callbacks.EarlyStopping(patience=20, verbose=1)"
   ]
  },
  {
   "cell_type": "code",
   "execution_count": 10,
   "metadata": {
    "id": "c3Dac0M_9hE2"
   },
   "outputs": [],
   "source": [
    "# Model compilation\n",
    "model.compile(\n",
    "    optimizer='adam',\n",
    "    loss='sparse_categorical_crossentropy',\n",
    "    metrics=['accuracy']\n",
    ")"
   ]
  },
  {
   "cell_type": "markdown",
   "metadata": {
    "id": "7XI0j1Iu9hE2"
   },
   "source": [
    "# Model training"
   ]
  },
  {
   "cell_type": "code",
   "execution_count": 11,
   "metadata": {
    "colab": {
     "base_uri": "https://localhost:8080/"
    },
    "id": "WirBl-JE9hE3",
    "outputId": "71b30ca2-8294-4d9d-8aa2-800d90d399de",
    "scrolled": true
   },
   "outputs": [
    {
     "name": "stdout",
     "output_type": "stream",
     "text": [
      "Epoch 1/1000\n",
      "22/22 [==============================] - ETA: 0s - loss: 1.4172 - accuracy: 0.3014\n",
      "Epoch 1: saving model to model/keypoint_classifier/keypoint_classifier.hdf5\n",
      "22/22 [==============================] - 1s 20ms/step - loss: 1.4172 - accuracy: 0.3014 - val_loss: 1.0505 - val_accuracy: 0.5288\n",
      "Epoch 2/1000\n",
      "15/22 [===================>..........] - ETA: 0s - loss: 1.1619 - accuracy: 0.4302\n",
      "Epoch 2: saving model to model/keypoint_classifier/keypoint_classifier.hdf5\n",
      "22/22 [==============================] - 0s 6ms/step - loss: 1.1300 - accuracy: 0.4409 - val_loss: 0.9296 - val_accuracy: 0.4919\n",
      "Epoch 3/1000\n",
      "15/22 [===================>..........] - ETA: 0s - loss: 1.0407 - accuracy: 0.4734"
     ]
    },
    {
     "name": "stderr",
     "output_type": "stream",
     "text": [
      "/Users/joeymusante/dev/hand-remote/venv/lib/python3.10/site-packages/keras/src/engine/training.py:3079: UserWarning: You are saving your model as an HDF5 file via `model.save()`. This file format is considered legacy. We recommend using instead the native Keras format, e.g. `model.save('my_model.keras')`.\n",
      "  saving_api.save_model(\n"
     ]
    },
    {
     "name": "stdout",
     "output_type": "stream",
     "text": [
      "\n",
      "Epoch 3: saving model to model/keypoint_classifier/keypoint_classifier.hdf5\n",
      "22/22 [==============================] - 0s 6ms/step - loss: 1.0343 - accuracy: 0.4703 - val_loss: 0.8583 - val_accuracy: 0.5494\n",
      "Epoch 4/1000\n",
      "14/22 [==================>...........] - ETA: 0s - loss: 0.9779 - accuracy: 0.4827\n",
      "Epoch 4: saving model to model/keypoint_classifier/keypoint_classifier.hdf5\n",
      "22/22 [==============================] - 0s 6ms/step - loss: 0.9768 - accuracy: 0.4873 - val_loss: 0.8115 - val_accuracy: 0.6069\n",
      "Epoch 5/1000\n",
      "14/22 [==================>...........] - ETA: 0s - loss: 0.9355 - accuracy: 0.5240\n",
      "Epoch 5: saving model to model/keypoint_classifier/keypoint_classifier.hdf5\n",
      "22/22 [==============================] - 0s 6ms/step - loss: 0.9246 - accuracy: 0.5264 - val_loss: 0.7807 - val_accuracy: 0.6634\n",
      "Epoch 6/1000\n",
      "16/22 [====================>.........] - ETA: 0s - loss: 0.9100 - accuracy: 0.5562\n",
      "Epoch 6: saving model to model/keypoint_classifier/keypoint_classifier.hdf5\n",
      "22/22 [==============================] - 0s 5ms/step - loss: 0.8918 - accuracy: 0.5638 - val_loss: 0.7545 - val_accuracy: 0.7296\n",
      "Epoch 7/1000\n",
      "16/22 [====================>.........] - ETA: 0s - loss: 0.8960 - accuracy: 0.5654\n",
      "Epoch 7: saving model to model/keypoint_classifier/keypoint_classifier.hdf5\n",
      "22/22 [==============================] - 0s 5ms/step - loss: 0.8818 - accuracy: 0.5688 - val_loss: 0.7282 - val_accuracy: 0.8165\n",
      "Epoch 8/1000\n",
      "16/22 [====================>.........] - ETA: 0s - loss: 0.8632 - accuracy: 0.5938\n",
      "Epoch 8: saving model to model/keypoint_classifier/keypoint_classifier.hdf5\n",
      "22/22 [==============================] - 0s 5ms/step - loss: 0.8637 - accuracy: 0.5906 - val_loss: 0.7126 - val_accuracy: 0.8295\n",
      "Epoch 9/1000\n",
      "14/22 [==================>...........] - ETA: 0s - loss: 0.8717 - accuracy: 0.5988\n",
      "Epoch 9: saving model to model/keypoint_classifier/keypoint_classifier.hdf5\n",
      "22/22 [==============================] - 0s 6ms/step - loss: 0.8590 - accuracy: 0.6043 - val_loss: 0.6961 - val_accuracy: 0.6960\n",
      "Epoch 10/1000\n",
      "14/22 [==================>...........] - ETA: 0s - loss: 0.8296 - accuracy: 0.6133\n",
      "Epoch 10: saving model to model/keypoint_classifier/keypoint_classifier.hdf5\n",
      "22/22 [==============================] - 0s 6ms/step - loss: 0.8256 - accuracy: 0.6156 - val_loss: 0.6746 - val_accuracy: 0.8284\n",
      "Epoch 11/1000\n",
      "14/22 [==================>...........] - ETA: 0s - loss: 0.8009 - accuracy: 0.6267\n",
      "Epoch 11: saving model to model/keypoint_classifier/keypoint_classifier.hdf5\n",
      "22/22 [==============================] - 0s 6ms/step - loss: 0.8099 - accuracy: 0.6297 - val_loss: 0.6557 - val_accuracy: 0.8426\n",
      "Epoch 12/1000\n",
      "14/22 [==================>...........] - ETA: 0s - loss: 0.8163 - accuracy: 0.6222\n",
      "Epoch 12: saving model to model/keypoint_classifier/keypoint_classifier.hdf5\n",
      "22/22 [==============================] - 0s 6ms/step - loss: 0.8063 - accuracy: 0.6254 - val_loss: 0.6442 - val_accuracy: 0.8404\n",
      "Epoch 13/1000\n",
      "14/22 [==================>...........] - ETA: 0s - loss: 0.7681 - accuracy: 0.6551\n",
      "Epoch 13: saving model to model/keypoint_classifier/keypoint_classifier.hdf5\n",
      "22/22 [==============================] - 0s 6ms/step - loss: 0.7677 - accuracy: 0.6511 - val_loss: 0.6257 - val_accuracy: 0.8252\n",
      "Epoch 14/1000\n",
      "14/22 [==================>...........] - ETA: 0s - loss: 0.7802 - accuracy: 0.6468\n",
      "Epoch 14: saving model to model/keypoint_classifier/keypoint_classifier.hdf5\n",
      "22/22 [==============================] - 0s 6ms/step - loss: 0.7827 - accuracy: 0.6482 - val_loss: 0.6171 - val_accuracy: 0.8415\n",
      "Epoch 15/1000\n",
      "14/22 [==================>...........] - ETA: 0s - loss: 0.7628 - accuracy: 0.6540\n",
      "Epoch 15: saving model to model/keypoint_classifier/keypoint_classifier.hdf5\n",
      "22/22 [==============================] - 0s 6ms/step - loss: 0.7575 - accuracy: 0.6634 - val_loss: 0.6084 - val_accuracy: 0.8415\n",
      "Epoch 16/1000\n",
      "15/22 [===================>..........] - ETA: 0s - loss: 0.7584 - accuracy: 0.6776\n",
      "Epoch 16: saving model to model/keypoint_classifier/keypoint_classifier.hdf5\n",
      "22/22 [==============================] - 0s 6ms/step - loss: 0.7728 - accuracy: 0.6663 - val_loss: 0.5942 - val_accuracy: 0.8643\n",
      "Epoch 17/1000\n",
      "14/22 [==================>...........] - ETA: 0s - loss: 0.7582 - accuracy: 0.6669\n",
      "Epoch 17: saving model to model/keypoint_classifier/keypoint_classifier.hdf5\n",
      "22/22 [==============================] - 0s 6ms/step - loss: 0.7584 - accuracy: 0.6670 - val_loss: 0.5915 - val_accuracy: 0.8274\n",
      "Epoch 18/1000\n",
      "15/22 [===================>..........] - ETA: 0s - loss: 0.7650 - accuracy: 0.6630\n",
      "Epoch 18: saving model to model/keypoint_classifier/keypoint_classifier.hdf5\n",
      "22/22 [==============================] - 0s 6ms/step - loss: 0.7495 - accuracy: 0.6678 - val_loss: 0.5765 - val_accuracy: 0.8599\n",
      "Epoch 19/1000\n",
      "15/22 [===================>..........] - ETA: 0s - loss: 0.7496 - accuracy: 0.6828\n",
      "Epoch 19: saving model to model/keypoint_classifier/keypoint_classifier.hdf5\n",
      "22/22 [==============================] - 0s 6ms/step - loss: 0.7423 - accuracy: 0.6866 - val_loss: 0.5757 - val_accuracy: 0.8502\n",
      "Epoch 20/1000\n",
      "14/22 [==================>...........] - ETA: 0s - loss: 0.7348 - accuracy: 0.6886\n",
      "Epoch 20: saving model to model/keypoint_classifier/keypoint_classifier.hdf5\n",
      "22/22 [==============================] - 0s 6ms/step - loss: 0.7253 - accuracy: 0.6967 - val_loss: 0.5598 - val_accuracy: 0.8708\n",
      "Epoch 21/1000\n",
      "15/22 [===================>..........] - ETA: 0s - loss: 0.7543 - accuracy: 0.6844\n",
      "Epoch 21: saving model to model/keypoint_classifier/keypoint_classifier.hdf5\n",
      "22/22 [==============================] - 0s 6ms/step - loss: 0.7514 - accuracy: 0.6783 - val_loss: 0.5565 - val_accuracy: 0.8686\n",
      "Epoch 22/1000\n",
      "14/22 [==================>...........] - ETA: 0s - loss: 0.7007 - accuracy: 0.7026\n",
      "Epoch 22: saving model to model/keypoint_classifier/keypoint_classifier.hdf5\n",
      "22/22 [==============================] - 0s 6ms/step - loss: 0.7131 - accuracy: 0.6996 - val_loss: 0.5654 - val_accuracy: 0.8230\n",
      "Epoch 23/1000\n",
      "14/22 [==================>...........] - ETA: 0s - loss: 0.7392 - accuracy: 0.6825\n",
      "Epoch 23: saving model to model/keypoint_classifier/keypoint_classifier.hdf5\n",
      "22/22 [==============================] - 0s 6ms/step - loss: 0.7499 - accuracy: 0.6746 - val_loss: 0.5587 - val_accuracy: 0.8252\n",
      "Epoch 24/1000\n",
      "14/22 [==================>...........] - ETA: 0s - loss: 0.7375 - accuracy: 0.6802\n",
      "Epoch 24: saving model to model/keypoint_classifier/keypoint_classifier.hdf5\n",
      "22/22 [==============================] - 0s 6ms/step - loss: 0.7299 - accuracy: 0.6848 - val_loss: 0.5406 - val_accuracy: 0.8697\n",
      "Epoch 25/1000\n",
      "15/22 [===================>..........] - ETA: 0s - loss: 0.7240 - accuracy: 0.6875\n",
      "Epoch 25: saving model to model/keypoint_classifier/keypoint_classifier.hdf5\n",
      "22/22 [==============================] - 0s 6ms/step - loss: 0.7256 - accuracy: 0.6906 - val_loss: 0.5353 - val_accuracy: 0.8610\n",
      "Epoch 26/1000\n",
      "14/22 [==================>...........] - ETA: 0s - loss: 0.7095 - accuracy: 0.7037\n",
      "Epoch 26: saving model to model/keypoint_classifier/keypoint_classifier.hdf5\n",
      "22/22 [==============================] - 0s 6ms/step - loss: 0.7178 - accuracy: 0.6888 - val_loss: 0.5358 - val_accuracy: 0.8523\n",
      "Epoch 27/1000\n",
      "15/22 [===================>..........] - ETA: 0s - loss: 0.7165 - accuracy: 0.6938\n",
      "Epoch 27: saving model to model/keypoint_classifier/keypoint_classifier.hdf5\n",
      "22/22 [==============================] - 0s 6ms/step - loss: 0.7065 - accuracy: 0.7000 - val_loss: 0.5291 - val_accuracy: 0.8795\n",
      "Epoch 28/1000\n",
      "14/22 [==================>...........] - ETA: 0s - loss: 0.7264 - accuracy: 0.6936\n",
      "Epoch 28: saving model to model/keypoint_classifier/keypoint_classifier.hdf5\n",
      "22/22 [==============================] - 0s 6ms/step - loss: 0.7361 - accuracy: 0.6873 - val_loss: 0.5699 - val_accuracy: 0.8089\n",
      "Epoch 29/1000\n",
      "14/22 [==================>...........] - ETA: 0s - loss: 0.7084 - accuracy: 0.6925\n",
      "Epoch 29: saving model to model/keypoint_classifier/keypoint_classifier.hdf5\n",
      "22/22 [==============================] - 0s 6ms/step - loss: 0.7024 - accuracy: 0.6935 - val_loss: 0.5306 - val_accuracy: 0.8817\n",
      "Epoch 30/1000\n",
      "14/22 [==================>...........] - ETA: 0s - loss: 0.7304 - accuracy: 0.6741\n",
      "Epoch 30: saving model to model/keypoint_classifier/keypoint_classifier.hdf5\n",
      "22/22 [==============================] - 0s 6ms/step - loss: 0.7222 - accuracy: 0.6862 - val_loss: 0.5271 - val_accuracy: 0.8773\n",
      "Epoch 31/1000\n",
      "14/22 [==================>...........] - ETA: 0s - loss: 0.6892 - accuracy: 0.7065\n",
      "Epoch 31: saving model to model/keypoint_classifier/keypoint_classifier.hdf5\n",
      "22/22 [==============================] - 0s 6ms/step - loss: 0.6960 - accuracy: 0.6971 - val_loss: 0.5283 - val_accuracy: 0.8534\n",
      "Epoch 32/1000\n",
      "14/22 [==================>...........] - ETA: 0s - loss: 0.7260 - accuracy: 0.6830\n",
      "Epoch 32: saving model to model/keypoint_classifier/keypoint_classifier.hdf5\n",
      "22/22 [==============================] - 0s 6ms/step - loss: 0.7088 - accuracy: 0.6946 - val_loss: 0.5216 - val_accuracy: 0.8512\n",
      "Epoch 33/1000\n",
      "15/22 [===================>..........] - ETA: 0s - loss: 0.7311 - accuracy: 0.6812\n",
      "Epoch 33: saving model to model/keypoint_classifier/keypoint_classifier.hdf5\n",
      "22/22 [==============================] - 0s 6ms/step - loss: 0.7207 - accuracy: 0.6848 - val_loss: 0.5364 - val_accuracy: 0.8480\n",
      "Epoch 34/1000\n",
      "14/22 [==================>...........] - ETA: 0s - loss: 0.7266 - accuracy: 0.6903\n",
      "Epoch 34: saving model to model/keypoint_classifier/keypoint_classifier.hdf5\n",
      "22/22 [==============================] - 0s 6ms/step - loss: 0.7106 - accuracy: 0.6996 - val_loss: 0.5283 - val_accuracy: 0.8664\n",
      "Epoch 35/1000\n",
      "14/22 [==================>...........] - ETA: 0s - loss: 0.7286 - accuracy: 0.6858\n",
      "Epoch 35: saving model to model/keypoint_classifier/keypoint_classifier.hdf5\n",
      "22/22 [==============================] - 0s 6ms/step - loss: 0.7309 - accuracy: 0.6884 - val_loss: 0.5412 - val_accuracy: 0.8263\n",
      "Epoch 36/1000\n",
      "16/22 [====================>.........] - ETA: 0s - loss: 0.7161 - accuracy: 0.6948\n",
      "Epoch 36: saving model to model/keypoint_classifier/keypoint_classifier.hdf5\n",
      "22/22 [==============================] - 0s 5ms/step - loss: 0.7291 - accuracy: 0.6880 - val_loss: 0.5417 - val_accuracy: 0.8436\n",
      "Epoch 37/1000\n",
      "15/22 [===================>..........] - ETA: 0s - loss: 0.7235 - accuracy: 0.6880\n",
      "Epoch 37: saving model to model/keypoint_classifier/keypoint_classifier.hdf5\n",
      "22/22 [==============================] - 0s 6ms/step - loss: 0.7178 - accuracy: 0.6909 - val_loss: 0.5256 - val_accuracy: 0.8502\n",
      "Epoch 38/1000\n",
      "15/22 [===================>..........] - ETA: 0s - loss: 0.7061 - accuracy: 0.6797\n",
      "Epoch 38: saving model to model/keypoint_classifier/keypoint_classifier.hdf5\n",
      "22/22 [==============================] - 0s 6ms/step - loss: 0.7256 - accuracy: 0.6692 - val_loss: 0.5584 - val_accuracy: 0.8382\n",
      "Epoch 39/1000\n",
      "15/22 [===================>..........] - ETA: 0s - loss: 0.7500 - accuracy: 0.6760\n",
      "Epoch 39: saving model to model/keypoint_classifier/keypoint_classifier.hdf5\n",
      "22/22 [==============================] - 0s 6ms/step - loss: 0.7440 - accuracy: 0.6746 - val_loss: 0.5410 - val_accuracy: 0.8643\n",
      "Epoch 40/1000\n",
      "14/22 [==================>...........] - ETA: 0s - loss: 0.7785 - accuracy: 0.6663\n",
      "Epoch 40: saving model to model/keypoint_classifier/keypoint_classifier.hdf5\n",
      "22/22 [==============================] - 0s 6ms/step - loss: 0.7625 - accuracy: 0.6772 - val_loss: 0.5236 - val_accuracy: 0.8534\n",
      "Epoch 41/1000\n",
      "14/22 [==================>...........] - ETA: 0s - loss: 0.7257 - accuracy: 0.6864\n",
      "Epoch 41: saving model to model/keypoint_classifier/keypoint_classifier.hdf5\n",
      "22/22 [==============================] - 0s 6ms/step - loss: 0.7322 - accuracy: 0.6888 - val_loss: 0.5220 - val_accuracy: 0.8588\n",
      "Epoch 42/1000\n",
      "14/22 [==================>...........] - ETA: 0s - loss: 0.7642 - accuracy: 0.6836\n",
      "Epoch 42: saving model to model/keypoint_classifier/keypoint_classifier.hdf5\n",
      "22/22 [==============================] - 0s 6ms/step - loss: 0.7578 - accuracy: 0.6757 - val_loss: 0.5537 - val_accuracy: 0.8480\n",
      "Epoch 43/1000\n",
      "15/22 [===================>..........] - ETA: 0s - loss: 0.7501 - accuracy: 0.6875\n",
      "Epoch 43: saving model to model/keypoint_classifier/keypoint_classifier.hdf5\n",
      "22/22 [==============================] - 0s 6ms/step - loss: 0.7524 - accuracy: 0.6826 - val_loss: 0.5790 - val_accuracy: 0.8165\n",
      "Epoch 44/1000\n",
      "15/22 [===================>..........] - ETA: 0s - loss: 0.7719 - accuracy: 0.6703\n",
      "Epoch 44: saving model to model/keypoint_classifier/keypoint_classifier.hdf5\n",
      "22/22 [==============================] - 0s 6ms/step - loss: 0.7700 - accuracy: 0.6714 - val_loss: 0.5397 - val_accuracy: 0.8426\n",
      "Epoch 45/1000\n",
      "15/22 [===================>..........] - ETA: 0s - loss: 0.7590 - accuracy: 0.6833\n",
      "Epoch 45: saving model to model/keypoint_classifier/keypoint_classifier.hdf5\n",
      "22/22 [==============================] - 0s 6ms/step - loss: 0.7514 - accuracy: 0.6768 - val_loss: 0.5587 - val_accuracy: 0.8274\n",
      "Epoch 46/1000\n",
      "15/22 [===================>..........] - ETA: 0s - loss: 0.7627 - accuracy: 0.6635\n",
      "Epoch 46: saving model to model/keypoint_classifier/keypoint_classifier.hdf5\n",
      "22/22 [==============================] - 0s 6ms/step - loss: 0.7584 - accuracy: 0.6652 - val_loss: 0.5423 - val_accuracy: 0.8480\n",
      "Epoch 47/1000\n",
      "15/22 [===================>..........] - ETA: 0s - loss: 0.7575 - accuracy: 0.6766\n",
      "Epoch 47: saving model to model/keypoint_classifier/keypoint_classifier.hdf5\n",
      "22/22 [==============================] - 0s 6ms/step - loss: 0.7603 - accuracy: 0.6707 - val_loss: 0.6125 - val_accuracy: 0.7622\n",
      "Epoch 48/1000\n",
      "15/22 [===================>..........] - ETA: 0s - loss: 0.7986 - accuracy: 0.6427\n",
      "Epoch 48: saving model to model/keypoint_classifier/keypoint_classifier.hdf5\n",
      "22/22 [==============================] - 0s 6ms/step - loss: 0.8086 - accuracy: 0.6391 - val_loss: 0.6220 - val_accuracy: 0.7611\n",
      "Epoch 49/1000\n",
      "14/22 [==================>...........] - ETA: 0s - loss: 0.8032 - accuracy: 0.6540\n",
      "Epoch 49: saving model to model/keypoint_classifier/keypoint_classifier.hdf5\n",
      "22/22 [==============================] - 0s 6ms/step - loss: 0.7857 - accuracy: 0.6587 - val_loss: 0.5652 - val_accuracy: 0.8523\n",
      "Epoch 50/1000\n",
      "15/22 [===================>..........] - ETA: 0s - loss: 0.7901 - accuracy: 0.6667\n",
      "Epoch 50: saving model to model/keypoint_classifier/keypoint_classifier.hdf5\n",
      "22/22 [==============================] - 0s 6ms/step - loss: 0.7726 - accuracy: 0.6630 - val_loss: 0.5976 - val_accuracy: 0.8176\n",
      "Epoch 51/1000\n",
      "15/22 [===================>..........] - ETA: 0s - loss: 0.7668 - accuracy: 0.6714\n",
      "Epoch 51: saving model to model/keypoint_classifier/keypoint_classifier.hdf5\n",
      "22/22 [==============================] - 0s 6ms/step - loss: 0.7688 - accuracy: 0.6717 - val_loss: 0.5722 - val_accuracy: 0.8480\n",
      "Epoch 52/1000\n",
      "15/22 [===================>..........] - ETA: 0s - loss: 0.7533 - accuracy: 0.6755\n",
      "Epoch 52: saving model to model/keypoint_classifier/keypoint_classifier.hdf5\n",
      "22/22 [==============================] - 0s 6ms/step - loss: 0.7688 - accuracy: 0.6699 - val_loss: 0.5905 - val_accuracy: 0.8371\n",
      "Epoch 52: early stopping\n"
     ]
    },
    {
     "data": {
      "text/plain": [
       "<keras.src.callbacks.History at 0x17e8a3700>"
      ]
     },
     "execution_count": 11,
     "metadata": {},
     "output_type": "execute_result"
    }
   ],
   "source": [
    "model.fit(\n",
    "    X_train,\n",
    "    y_train,\n",
    "    epochs=1000,\n",
    "    batch_size=128,\n",
    "    validation_data=(X_test, y_test),\n",
    "    callbacks=[cp_callback, es_callback]\n",
    ")"
   ]
  },
  {
   "cell_type": "code",
   "execution_count": 12,
   "metadata": {
    "colab": {
     "base_uri": "https://localhost:8080/"
    },
    "id": "pxvb2Y299hE3",
    "outputId": "59eb3185-2e37-4b9e-bc9d-ab1b8ac29b7f"
   },
   "outputs": [
    {
     "name": "stdout",
     "output_type": "stream",
     "text": [
      "8/8 [==============================] - 0s 3ms/step - loss: 0.5905 - accuracy: 0.8371\n"
     ]
    }
   ],
   "source": [
    "# Model evaluation\n",
    "val_loss, val_acc = model.evaluate(X_test, y_test, batch_size=128)"
   ]
  },
  {
   "cell_type": "code",
   "execution_count": 13,
   "metadata": {
    "id": "RBkmDeUW9hE4"
   },
   "outputs": [],
   "source": [
    "# Loading the saved model\n",
    "model = tf.keras.models.load_model(model_save_path)"
   ]
  },
  {
   "cell_type": "code",
   "execution_count": 14,
   "metadata": {
    "colab": {
     "base_uri": "https://localhost:8080/"
    },
    "id": "tFz9Tb0I9hE4",
    "outputId": "1c3b3528-54ae-4ee2-ab04-77429211cbef"
   },
   "outputs": [
    {
     "name": "stdout",
     "output_type": "stream",
     "text": [
      "1/1 [==============================] - 0s 39ms/step\n",
      "[0.5534058  0.21256626 0.23402797]\n",
      "0\n"
     ]
    }
   ],
   "source": [
    "# Inference test\n",
    "predict_result = model.predict(np.array([X_test[0]]))\n",
    "print(np.squeeze(predict_result))\n",
    "print(np.argmax(np.squeeze(predict_result)))"
   ]
  },
  {
   "cell_type": "markdown",
   "metadata": {
    "id": "S3U4yNWx9hE4"
   },
   "source": [
    "# Confusion matrix"
   ]
  },
  {
   "cell_type": "code",
   "execution_count": 15,
   "metadata": {
    "colab": {
     "base_uri": "https://localhost:8080/",
     "height": 582
    },
    "id": "AP1V6SCk9hE5",
    "outputId": "08e41a80-7a4a-4619-8125-ecc371368d19"
   },
   "outputs": [
    {
     "name": "stdout",
     "output_type": "stream",
     "text": [
      "29/29 [==============================] - 0s 1ms/step\n"
     ]
    },
    {
     "data": {
      "image/png": "[encoded data removed]",
      "text/plain": [
       "<Figure size 700x600 with 2 Axes>"
      ]
     },
     "metadata": {},
     "output_type": "display_data"
    },
    {
     "name": "stdout",
     "output_type": "stream",
     "text": [
      "Classification Report\n",
      "              precision    recall  f1-score   support\n",
      "\n",
      "           0       0.86      0.78      0.82       401\n",
      "           1       0.81      0.84      0.83       380\n",
      "           2       0.85      0.99      0.91       140\n",
      "\n",
      "    accuracy                           0.84       921\n",
      "   macro avg       0.84      0.87      0.85       921\n",
      "weighted avg       0.84      0.84      0.84       921\n",
      "\n"
     ]
    }
   ],
   "source": [
    "import pandas as pd\n",
    "import seaborn as sns\n",
    "import matplotlib.pyplot as plt\n",
    "from sklearn.metrics import confusion_matrix, classification_report\n",
    "\n",
    "def print_confusion_matrix(y_true, y_pred, report=True):\n",
    "    labels = sorted(list(set(y_true)))\n",
    "    cmx_data = confusion_matrix(y_true, y_pred, labels=labels)\n",
    "    \n",
    "    df_cmx = pd.DataFrame(cmx_data, index=labels, columns=labels)\n",
    " \n",
    "    fig, ax = plt.subplots(figsize=(7, 6))\n",
    "    sns.heatmap(df_cmx, annot=True, fmt='g' ,square=False)\n",
    "    ax.set_ylim(len(set(y_true)), 0)\n",
    "    plt.show()\n",
    "    \n",
    "    if report:\n",
    "        print('Classification Report')\n",
    "        print(classification_report(y_test, y_pred))\n",
    "\n",
    "Y_pred = model.predict(X_test)\n",
    "y_pred = np.argmax(Y_pred, axis=1)\n",
    "\n",
    "print_confusion_matrix(y_test, y_pred)"
   ]
  },
  {
   "cell_type": "markdown",
   "metadata": {
    "id": "FNP6aqzc9hE5"
   },
   "source": [
    "# Convert to model for Tensorflow-Lite"
   ]
  },
  {
   "cell_type": "code",
   "execution_count": 16,
   "metadata": {
    "id": "ODjnYyld9hE6"
   },
   "outputs": [
    {
     "name": "stderr",
     "output_type": "stream",
     "text": [
      "/Users/joeymusante/dev/hand-remote/venv/lib/python3.10/site-packages/keras/src/engine/training.py:3079: UserWarning: You are saving your model as an HDF5 file via `model.save()`. This file format is considered legacy. We recommend using instead the native Keras format, e.g. `model.save('my_model.keras')`.\n",
      "  saving_api.save_model(\n"
     ]
    }
   ],
   "source": [
    "# Save as a model dedicated to inference\n",
    "model.save(model_save_path, include_optimizer=False)"
   ]
  },
  {
   "cell_type": "code",
   "execution_count": 17,
   "metadata": {
    "colab": {
     "base_uri": "https://localhost:8080/"
    },
    "id": "zRfuK8Y59hE6",
    "outputId": "a4ca585c-b5d5-4244-8291-8674063209bb"
   },
   "outputs": [
    {
     "name": "stdout",
     "output_type": "stream",
     "text": [
      "INFO:tensorflow:Assets written to: /var/folders/9r/x_hzmzq51t15yvjk_3l8kzqh0000gn/T/tmp3gtzrcl3/assets\n"
     ]
    },
    {
     "name": "stderr",
     "output_type": "stream",
     "text": [
      "INFO:tensorflow:Assets written to: /var/folders/9r/x_hzmzq51t15yvjk_3l8kzqh0000gn/T/tmp3gtzrcl3/assets\n",
      "2025-09-24 10:31:19.066756: W tensorflow/compiler/mlir/lite/python/tf_tfl_flatbuffer_helpers.cc:378] Ignored output_format.\n",
      "2025-09-24 10:31:19.066766: W tensorflow/compiler/mlir/lite/python/tf_tfl_flatbuffer_helpers.cc:381] Ignored drop_control_dependency.\n"
     ]
    },
    {
     "data": {
      "text/plain": [
       "6500"
      ]
     },
     "execution_count": 17,
     "metadata": {},
     "output_type": "execute_result"
    }
   ],
   "source": [
    "# Transform model (quantization)\n",
    "\n",
    "converter = tf.lite.TFLiteConverter.from_keras_model(model)\n",
    "converter.optimizations = [tf.lite.Optimize.DEFAULT]\n",
    "tflite_quantized_model = converter.convert()\n",
    "\n",
    "open(tflite_save_path, 'wb').write(tflite_quantized_model)"
   ]
  },
  {
   "cell_type": "markdown",
   "metadata": {
    "id": "CHBPBXdx9hE6"
   },
   "source": [
    "# Inference test"
   ]
  },
  {
   "cell_type": "code",
   "execution_count": 18,
   "metadata": {
    "id": "mGAzLocO9hE7"
   },
   "outputs": [
    {
     "name": "stderr",
     "output_type": "stream",
     "text": [
      "INFO: Created TensorFlow Lite XNNPACK delegate for CPU.\n"
     ]
    }
   ],
   "source": [
    "interpreter = tf.lite.Interpreter(model_path=tflite_save_path)\n",
    "interpreter.allocate_tensors()"
   ]
  },
  {
   "cell_type": "code",
   "execution_count": 19,
   "metadata": {
    "id": "oQuDK8YS9hE7"
   },
   "outputs": [],
   "source": [
    "# Get I / O tensor\n",
    "input_details = interpreter.get_input_details()\n",
    "output_details = interpreter.get_output_details()"
   ]
  },
  {
   "cell_type": "code",
   "execution_count": 20,
   "metadata": {
    "id": "2_ixAf_l9hE7"
   },
   "outputs": [],
   "source": [
    "interpreter.set_tensor(input_details[0]['index'], np.array([X_test[0]]))"
   ]
  },
  {
   "cell_type": "code",
   "execution_count": 21,
   "metadata": {
    "colab": {
     "base_uri": "https://localhost:8080/"
    },
    "id": "s4FoAnuc9hE7",
    "outputId": "91f18257-8d8b-4ef3-c558-e9b5f94fabbf",
    "scrolled": true
   },
   "outputs": [
    {
     "name": "stdout",
     "output_type": "stream",
     "text": [
      "CPU times: user 258 μs, sys: 295 μs, total: 553 μs\n",
      "Wall time: 332 μs\n"
     ]
    }
   ],
   "source": [
    "%%time\n",
    "# Inference implementation\n",
    "interpreter.invoke()\n",
    "tflite_results = interpreter.get_tensor(output_details[0]['index'])"
   ]
  },
  {
   "cell_type": "code",
   "execution_count": 22,
   "metadata": {
    "colab": {
     "base_uri": "https://localhost:8080/"
    },
    "id": "vONjp19J9hE8",
    "outputId": "77205e24-fd00-42c4-f7b6-e06e527c2cba"
   },
   "outputs": [
    {
     "name": "stdout",
     "output_type": "stream",
     "text": [
      "[5.4608390e-04 9.9945396e-01 0.0000000e+00]\n",
      "1\n"
     ]
    }
   ],
   "source": [
    "print(np.squeeze(tflite_results))\n",
    "print(np.argmax(np.squeeze(tflite_results)))"
   ]
  },
  {
   "cell_type": "code",
   "execution_count": 23,
   "metadata": {},
   "outputs": [
    {
     "name": "stdout",
     "output_type": "stream",
     "text": [
      "INFO:tensorflow:Assets written to: /var/folders/9r/x_hzmzq51t15yvjk_3l8kzqh0000gn/T/tmpfkqglp2s/assets\n"
     ]
    },
    {
     "name": "stderr",
     "output_type": "stream",
     "text": [
      "INFO:tensorflow:Assets written to: /var/folders/9r/x_hzmzq51t15yvjk_3l8kzqh0000gn/T/tmpfkqglp2s/assets\n",
      "2025-09-24 10:31:19.508417: W tensorflow/compiler/mlir/lite/python/tf_tfl_flatbuffer_helpers.cc:378] Ignored output_format.\n",
      "2025-09-24 10:31:19.508428: W tensorflow/compiler/mlir/lite/python/tf_tfl_flatbuffer_helpers.cc:381] Ignored drop_control_dependency.\n"
     ]
    }
   ],
   "source": [
    "import tensorflow as tf\n",
    "\n",
    "# Convert the trained model to TFLite\n",
    "converter = tf.lite.TFLiteConverter.from_keras_model(model)\n",
    "tflite_model = converter.convert()\n",
    "\n",
    "# Save as .tflite file (overwrite the one the app uses)\n",
    "with open(\"model/keypoint_classifier/keypoint_classifier.tflite\", \"wb\") as f:\n",
    "    f.write(tflite_model)\n"
   ]
  }
 ],
 "metadata": {
  "accelerator": "GPU",
  "colab": {
   "collapsed_sections": [],
   "name": "keypoint_classification_EN.ipynb",
   "provenance": [],
   "toc_visible": true
  },
  "kernelspec": {
   "display_name": "Python 3 (ipykernel)",
   "language": "python",
   "name": "python3"
  },
  "language_info": {
   "codemirror_mode": {
    "name": "ipython",
    "version": 3
   },
   "file_extension": ".py",
   "mimetype": "text/x-python",
   "name": "python",
   "nbconvert_exporter": "python",
   "pygments_lexer": "ipython3",
   "version": "3.10.9"
  }
 },
 "nbformat": 4,
 "nbformat_minor": 4
}
